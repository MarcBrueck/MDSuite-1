{
 "cells": [
  {
   "cell_type": "markdown",
   "metadata": {},
   "source": [
    "# Tutorial 2: Two component system\n",
    "\n",
    "In tutorial 1 we became acquainted with how to build a database and start analyzing the properties of these systems. In tutorial 2 will look at a more complex system and check some of the conductivity calculations possible currently for two component materials."
   ]
  },
  {
   "cell_type": "code",
   "execution_count": null,
   "metadata": {},
   "outputs": [],
   "source": [
    "import mdsuite as mds\n",
    "import os"
   ]
  },
  {
   "cell_type": "markdown",
   "metadata": {},
   "source": [
    "Specifically, we will be looking at molten NaCl at 1400K. We start, as always, with the construction of the database under a new name, NaCl_1400K"
   ]
  },
  {
   "cell_type": "code",
   "execution_count": null,
   "metadata": {},
   "outputs": [],
   "source": [
    "NaCl_1400K = mds.Trajectory(analysis_name=\"NaCl_1400K\", \n",
    "                           new_project=True,\n",
    "                          storage_path=\".\",\n",
    "                          temperature=1400.0,\n",
    "                          time_step=0.002,\n",
    "                          time_unit=1e-12,\n",
    "                          filename=\"trajectory_files/NaCl_1400K.dump\",\n",
    "                          length_unit=1e-10)"
   ]
  },
  {
   "cell_type": "markdown",
   "metadata": {},
   "source": [
    "First, let's unwrap the coordinates in order to plot some msd characteristics"
   ]
  },
  {
   "cell_type": "code",
   "execution_count": null,
   "metadata": {
    "scrolled": true
   },
   "outputs": [],
   "source": [
    "NaCl_1400K.Unwrap_Coordinates()"
   ]
  },
  {
   "cell_type": "markdown",
   "metadata": {},
   "source": [
    "The first point of dynamics analysis is usually the self diffusion, now of course, we have two components, so let's see how the program will handle this."
   ]
  },
  {
   "cell_type": "code",
   "execution_count": null,
   "metadata": {},
   "outputs": [],
   "source": [
    "NaCl_1400K.Einstein_Diffusion_Coefficients(plot=True)"
   ]
  },
  {
   "cell_type": "markdown",
   "metadata": {},
   "source": [
    "If you only want to look at a single component, one simply needs to include the keyword argument as follows"
   ]
  },
  {
   "cell_type": "code",
   "execution_count": null,
   "metadata": {},
   "outputs": [],
   "source": [
    "NaCl_1400K.Einstein_Diffusion_Coefficients(plot=True, species=[\"Na\"])"
   ]
  },
  {
   "cell_type": "markdown",
   "metadata": {},
   "source": [
    "So you can see that we will get only a single analysis performed.\n",
    "\n",
    "We can also calculate the same property using the GK approach discussed in tutorial 1. Keep in mind that this simulation data is highly inappropriate for such a calculation."
   ]
  },
  {
   "cell_type": "code",
   "execution_count": null,
   "metadata": {},
   "outputs": [],
   "source": [
    "NaCl_1400K.Green_Kubo_Diffusion_Coefficients(plot=True, data_range=50)"
   ]
  },
  {
   "cell_type": "markdown",
   "metadata": {},
   "source": [
    "So you can see that this value is much larger than what we would expect based on the Einstein approach taken above.\n",
    "\n",
    "The other dynamic property of interest in many investigations it the ionic conductivity. For a fully uncorrelated system, this is trivially possible through the Nernst-Einstein relation, calculated in this code by simply running the Nernst-Einstein method. This method will automatically take care of deciding which implementations are possible. As it is not a computationally complicated calculation, there is not user override. "
   ]
  },
  {
   "cell_type": "code",
   "execution_count": null,
   "metadata": {},
   "outputs": [],
   "source": [
    "NaCl_1400K.Nernst_Einstein_Conductivity()"
   ]
  },
  {
   "cell_type": "markdown",
   "metadata": {},
   "source": [
    "This approach however, neglects all correlation between the ionic species that may be present in the system. To account for this, we can run either the Einstein-Helfand analysis, or the Green-Kubo autocorrelation analysis to calculate this value. You must note that the simulation being used in this tutorial is very small and very short, therefore, the results that are to be shown will be inconsistent with each other, and with reality."
   ]
  },
  {
   "cell_type": "code",
   "execution_count": null,
   "metadata": {},
   "outputs": [],
   "source": [
    "NaCl_1400K.Einstein_Helfand_Conductivity(measurement_range=100, plot=True)"
   ]
  },
  {
   "cell_type": "markdown",
   "metadata": {},
   "source": [
    "The error in this analysis comes by fitting a line over various ranges of the linear region and averaging over the calculated gradients"
   ]
  },
  {
   "cell_type": "code",
   "execution_count": null,
   "metadata": {},
   "outputs": [],
   "source": [
    "NaCl_1400K.Green_Kubo_Conductivity(plot=True, data_range=150)"
   ]
  },
  {
   "cell_type": "markdown",
   "metadata": {},
   "source": [
    "You can see in particular for the Green-Kubo that the data is highly inappropriate for this kind of analysis. Nonetheless, it can be performed. The issue with the trajectory is that it was sampled every 100 time steps, therefore, the GK approach will often fail as the resolution is too poor."
   ]
  }
 ],
 "metadata": {
  "kernelspec": {
   "display_name": "Python 3",
   "language": "python",
   "name": "python3"
  },
  "language_info": {
   "codemirror_mode": {
    "name": "ipython",
    "version": 3
   },
   "file_extension": ".py",
   "mimetype": "text/x-python",
   "name": "python",
   "nbconvert_exporter": "python",
   "pygments_lexer": "ipython3",
   "version": "3.6.9"
  }
 },
 "nbformat": 4,
 "nbformat_minor": 2
}
