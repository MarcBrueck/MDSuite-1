{
 "cells": [
  {
   "cell_type": "code",
   "execution_count": 1,
   "metadata": {},
   "outputs": [
    {
     "name": "stdout",
     "output_type": "stream",
     "text": [
      "Jupyter environment detected. Enabling Open3D WebVisualizer.\n",
      "[Open3D INFO] WebRTC GUI backend enabled.\n",
      "[Open3D INFO] WebRTCWindowSystem: HTTP handshake server disabled.\n"
     ]
    },
    {
     "name": "stderr",
     "output_type": "stream",
     "text": [
      "INFO - 2021-09-21 11:34:33,458 - utils - Note: NumExpr detected 12 cores but \"NUMEXPR_MAX_THREADS\" not set, so enforcing safe limit of 8.\n",
      "INFO - 2021-09-21 11:34:33,459 - utils - NumExpr defaulting to 8 threads.\n"
     ]
    }
   ],
   "source": [
    "import mdsuite as mds\n",
    "import os\n",
    "import sys\n",
    "import tempfile\n",
    "sys.path.insert(0, '../scripts')\n",
    "from green_kubo_diffusion import load_data"
   ]
  },
  {
   "cell_type": "code",
   "execution_count": 2,
   "metadata": {},
   "outputs": [],
   "source": [
    "temp_dir = tempfile.TemporaryDirectory()\n",
    "os.chdir(temp_dir.name)\n",
    "load_data()"
   ]
  },
  {
   "cell_type": "code",
   "execution_count": 3,
   "metadata": {},
   "outputs": [
    {
     "name": "stdout",
     "output_type": "stream",
     "text": [
      "2021-09-21 11:34:34,201 - WARNING: Using Jupyter\n"
     ]
    },
    {
     "name": "stderr",
     "output_type": "stream",
     "text": [
      "WARNING - 2021-09-21 11:34:34,201 - project - Using Jupyter\n"
     ]
    },
    {
     "name": "stdout",
     "output_type": "stream",
     "text": [
      "2021-09-21 11:34:34,456 - INFO: Creating a new experiment!\n"
     ]
    },
    {
     "name": "stderr",
     "output_type": "stream",
     "text": [
      "INFO - 2021-09-21 11:34:34,456 - experiment - Creating a new experiment!\n"
     ]
    },
    {
     "name": "stdout",
     "output_type": "stream",
     "text": [
      "2021-09-21 11:34:34,458 - INFO: ** An experiment has been added titled NaCl_GK **\n"
     ]
    },
    {
     "name": "stderr",
     "output_type": "stream",
     "text": [
      "INFO - 2021-09-21 11:34:34,458 - experiment - ** An experiment has been added titled NaCl_GK **\n",
      "100%|███████████████████████████████████| 1/1 [00:06<00:00,  6.72s/it]\n"
     ]
    }
   ],
   "source": [
    "project = mds.Project(\"GK_Diffusion_Example\")\n",
    "project.add_experiment(\n",
    "    experiment='NaCl_GK',\n",
    "    timestep=0.002,\n",
    "    temperature=1400.0,\n",
    "    units='metal',\n",
    "    data='NaCl_gk_i_q.lammpstraj'\n",
    ")"
   ]
  },
  {
   "cell_type": "code",
   "execution_count": 4,
   "metadata": {},
   "outputs": [
    {
     "data": {
      "text/plain": [
       "501"
      ]
     },
     "execution_count": 4,
     "metadata": {},
     "output_type": "execute_result"
    }
   ],
   "source": [
    "project.experiments.NaCl_GK.number_of_configurations"
   ]
  },
  {
   "cell_type": "code",
   "execution_count": 8,
   "metadata": {},
   "outputs": [
    {
     "data": {
      "text/html": [
       "\n",
       "    <div class=\"bk-root\">\n",
       "        <a href=\"https://bokeh.org\" target=\"_blank\" class=\"bk-logo bk-logo-small bk-logo-notebook\"></a>\n",
       "        <span id=\"1271\">Loading BokehJS ...</span>\n",
       "    </div>"
      ]
     },
     "metadata": {},
     "output_type": "display_data"
    },
    {
     "data": {
      "application/javascript": [
       "\n",
       "(function(root) {\n",
       "  function now() {\n",
       "    return new Date();\n",
       "  }\n",
       "\n",
       "  const force = true;\n",
       "\n",
       "  if (typeof root._bokeh_onload_callbacks === \"undefined\" || force === true) {\n",
       "    root._bokeh_onload_callbacks = [];\n",
       "    root._bokeh_is_loading = undefined;\n",
       "  }\n",
       "\n",
       "  const JS_MIME_TYPE = 'application/javascript';\n",
       "  const HTML_MIME_TYPE = 'text/html';\n",
       "  const EXEC_MIME_TYPE = 'application/vnd.bokehjs_exec.v0+json';\n",
       "  const CLASS_NAME = 'output_bokeh rendered_html';\n",
       "\n",
       "  /**\n",
       "   * Render data to the DOM node\n",
       "   */\n",
       "  function render(props, node) {\n",
       "    const script = document.createElement(\"script\");\n",
       "    node.appendChild(script);\n",
       "  }\n",
       "\n",
       "  /**\n",
       "   * Handle when an output is cleared or removed\n",
       "   */\n",
       "  function handleClearOutput(event, handle) {\n",
       "    const cell = handle.cell;\n",
       "\n",
       "    const id = cell.output_area._bokeh_element_id;\n",
       "    const server_id = cell.output_area._bokeh_server_id;\n",
       "    // Clean up Bokeh references\n",
       "    if (id != null && id in Bokeh.index) {\n",
       "      Bokeh.index[id].model.document.clear();\n",
       "      delete Bokeh.index[id];\n",
       "    }\n",
       "\n",
       "    if (server_id !== undefined) {\n",
       "      // Clean up Bokeh references\n",
       "      const cmd_clean = \"from bokeh.io.state import curstate; print(curstate().uuid_to_server['\" + server_id + \"'].get_sessions()[0].document.roots[0]._id)\";\n",
       "      cell.notebook.kernel.execute(cmd_clean, {\n",
       "        iopub: {\n",
       "          output: function(msg) {\n",
       "            const id = msg.content.text.trim();\n",
       "            if (id in Bokeh.index) {\n",
       "              Bokeh.index[id].model.document.clear();\n",
       "              delete Bokeh.index[id];\n",
       "            }\n",
       "          }\n",
       "        }\n",
       "      });\n",
       "      // Destroy server and session\n",
       "      const cmd_destroy = \"import bokeh.io.notebook as ion; ion.destroy_server('\" + server_id + \"')\";\n",
       "      cell.notebook.kernel.execute(cmd_destroy);\n",
       "    }\n",
       "  }\n",
       "\n",
       "  /**\n",
       "   * Handle when a new output is added\n",
       "   */\n",
       "  function handleAddOutput(event, handle) {\n",
       "    const output_area = handle.output_area;\n",
       "    const output = handle.output;\n",
       "\n",
       "    // limit handleAddOutput to display_data with EXEC_MIME_TYPE content only\n",
       "    if ((output.output_type != \"display_data\") || (!Object.prototype.hasOwnProperty.call(output.data, EXEC_MIME_TYPE))) {\n",
       "      return\n",
       "    }\n",
       "\n",
       "    const toinsert = output_area.element.find(\".\" + CLASS_NAME.split(' ')[0]);\n",
       "\n",
       "    if (output.metadata[EXEC_MIME_TYPE][\"id\"] !== undefined) {\n",
       "      toinsert[toinsert.length - 1].firstChild.textContent = output.data[JS_MIME_TYPE];\n",
       "      // store reference to embed id on output_area\n",
       "      output_area._bokeh_element_id = output.metadata[EXEC_MIME_TYPE][\"id\"];\n",
       "    }\n",
       "    if (output.metadata[EXEC_MIME_TYPE][\"server_id\"] !== undefined) {\n",
       "      const bk_div = document.createElement(\"div\");\n",
       "      bk_div.innerHTML = output.data[HTML_MIME_TYPE];\n",
       "      const script_attrs = bk_div.children[0].attributes;\n",
       "      for (let i = 0; i < script_attrs.length; i++) {\n",
       "        toinsert[toinsert.length - 1].firstChild.setAttribute(script_attrs[i].name, script_attrs[i].value);\n",
       "        toinsert[toinsert.length - 1].firstChild.textContent = bk_div.children[0].textContent\n",
       "      }\n",
       "      // store reference to server id on output_area\n",
       "      output_area._bokeh_server_id = output.metadata[EXEC_MIME_TYPE][\"server_id\"];\n",
       "    }\n",
       "  }\n",
       "\n",
       "  function register_renderer(events, OutputArea) {\n",
       "\n",
       "    function append_mime(data, metadata, element) {\n",
       "      // create a DOM node to render to\n",
       "      const toinsert = this.create_output_subarea(\n",
       "        metadata,\n",
       "        CLASS_NAME,\n",
       "        EXEC_MIME_TYPE\n",
       "      );\n",
       "      this.keyboard_manager.register_events(toinsert);\n",
       "      // Render to node\n",
       "      const props = {data: data, metadata: metadata[EXEC_MIME_TYPE]};\n",
       "      render(props, toinsert[toinsert.length - 1]);\n",
       "      element.append(toinsert);\n",
       "      return toinsert\n",
       "    }\n",
       "\n",
       "    /* Handle when an output is cleared or removed */\n",
       "    events.on('clear_output.CodeCell', handleClearOutput);\n",
       "    events.on('delete.Cell', handleClearOutput);\n",
       "\n",
       "    /* Handle when a new output is added */\n",
       "    events.on('output_added.OutputArea', handleAddOutput);\n",
       "\n",
       "    /**\n",
       "     * Register the mime type and append_mime function with output_area\n",
       "     */\n",
       "    OutputArea.prototype.register_mime_type(EXEC_MIME_TYPE, append_mime, {\n",
       "      /* Is output safe? */\n",
       "      safe: true,\n",
       "      /* Index of renderer in `output_area.display_order` */\n",
       "      index: 0\n",
       "    });\n",
       "  }\n",
       "\n",
       "  // register the mime type if in Jupyter Notebook environment and previously unregistered\n",
       "  if (root.Jupyter !== undefined) {\n",
       "    const events = require('base/js/events');\n",
       "    const OutputArea = require('notebook/js/outputarea').OutputArea;\n",
       "\n",
       "    if (OutputArea.prototype.mime_types().indexOf(EXEC_MIME_TYPE) == -1) {\n",
       "      register_renderer(events, OutputArea);\n",
       "    }\n",
       "  }\n",
       "\n",
       "  \n",
       "  if (typeof (root._bokeh_timeout) === \"undefined\" || force === true) {\n",
       "    root._bokeh_timeout = Date.now() + 5000;\n",
       "    root._bokeh_failed_load = false;\n",
       "  }\n",
       "\n",
       "  const NB_LOAD_WARNING = {'data': {'text/html':\n",
       "     \"<div style='background-color: #fdd'>\\n\"+\n",
       "     \"<p>\\n\"+\n",
       "     \"BokehJS does not appear to have successfully loaded. If loading BokehJS from CDN, this \\n\"+\n",
       "     \"may be due to a slow or bad network connection. Possible fixes:\\n\"+\n",
       "     \"</p>\\n\"+\n",
       "     \"<ul>\\n\"+\n",
       "     \"<li>re-rerun `output_notebook()` to attempt to load from CDN again, or</li>\\n\"+\n",
       "     \"<li>use INLINE resources instead, as so:</li>\\n\"+\n",
       "     \"</ul>\\n\"+\n",
       "     \"<code>\\n\"+\n",
       "     \"from bokeh.resources import INLINE\\n\"+\n",
       "     \"output_notebook(resources=INLINE)\\n\"+\n",
       "     \"</code>\\n\"+\n",
       "     \"</div>\"}};\n",
       "\n",
       "  function display_loaded() {\n",
       "    const el = document.getElementById(\"1271\");\n",
       "    if (el != null) {\n",
       "      el.textContent = \"BokehJS is loading...\";\n",
       "    }\n",
       "    if (root.Bokeh !== undefined) {\n",
       "      if (el != null) {\n",
       "        el.textContent = \"BokehJS \" + root.Bokeh.version + \" successfully loaded.\";\n",
       "      }\n",
       "    } else if (Date.now() < root._bokeh_timeout) {\n",
       "      setTimeout(display_loaded, 100)\n",
       "    }\n",
       "  }\n",
       "\n",
       "\n",
       "  function run_callbacks() {\n",
       "    try {\n",
       "      root._bokeh_onload_callbacks.forEach(function(callback) {\n",
       "        if (callback != null)\n",
       "          callback();\n",
       "      });\n",
       "    } finally {\n",
       "      delete root._bokeh_onload_callbacks\n",
       "    }\n",
       "    console.debug(\"Bokeh: all callbacks have finished\");\n",
       "  }\n",
       "\n",
       "  function load_libs(css_urls, js_urls, callback) {\n",
       "    if (css_urls == null) css_urls = [];\n",
       "    if (js_urls == null) js_urls = [];\n",
       "\n",
       "    root._bokeh_onload_callbacks.push(callback);\n",
       "    if (root._bokeh_is_loading > 0) {\n",
       "      console.debug(\"Bokeh: BokehJS is being loaded, scheduling callback at\", now());\n",
       "      return null;\n",
       "    }\n",
       "    if (js_urls == null || js_urls.length === 0) {\n",
       "      run_callbacks();\n",
       "      return null;\n",
       "    }\n",
       "    console.debug(\"Bokeh: BokehJS not loaded, scheduling load and callback at\", now());\n",
       "    root._bokeh_is_loading = css_urls.length + js_urls.length;\n",
       "\n",
       "    function on_load() {\n",
       "      root._bokeh_is_loading--;\n",
       "      if (root._bokeh_is_loading === 0) {\n",
       "        console.debug(\"Bokeh: all BokehJS libraries/stylesheets loaded\");\n",
       "        run_callbacks()\n",
       "      }\n",
       "    }\n",
       "\n",
       "    function on_error(url) {\n",
       "      console.error(\"failed to load \" + url);\n",
       "    }\n",
       "\n",
       "    for (let i = 0; i < css_urls.length; i++) {\n",
       "      const url = css_urls[i];\n",
       "      const element = document.createElement(\"link\");\n",
       "      element.onload = on_load;\n",
       "      element.onerror = on_error.bind(null, url);\n",
       "      element.rel = \"stylesheet\";\n",
       "      element.type = \"text/css\";\n",
       "      element.href = url;\n",
       "      console.debug(\"Bokeh: injecting link tag for BokehJS stylesheet: \", url);\n",
       "      document.body.appendChild(element);\n",
       "    }\n",
       "\n",
       "    for (let i = 0; i < js_urls.length; i++) {\n",
       "      const url = js_urls[i];\n",
       "      const element = document.createElement('script');\n",
       "      element.onload = on_load;\n",
       "      element.onerror = on_error.bind(null, url);\n",
       "      element.async = false;\n",
       "      element.src = url;\n",
       "      console.debug(\"Bokeh: injecting script tag for BokehJS library: \", url);\n",
       "      document.head.appendChild(element);\n",
       "    }\n",
       "  };\n",
       "\n",
       "  function inject_raw_css(css) {\n",
       "    const element = document.createElement(\"style\");\n",
       "    element.appendChild(document.createTextNode(css));\n",
       "    document.body.appendChild(element);\n",
       "  }\n",
       "\n",
       "  \n",
       "  const js_urls = [\"https://cdn.bokeh.org/bokeh/release/bokeh-2.4.0.min.js\", \"https://cdn.bokeh.org/bokeh/release/bokeh-gl-2.4.0.min.js\", \"https://cdn.bokeh.org/bokeh/release/bokeh-widgets-2.4.0.min.js\", \"https://cdn.bokeh.org/bokeh/release/bokeh-tables-2.4.0.min.js\", \"https://cdn.bokeh.org/bokeh/release/bokeh-mathjax-2.4.0.min.js\"];\n",
       "  const css_urls = [];\n",
       "  \n",
       "\n",
       "  const inline_js = [\n",
       "    function(Bokeh) {\n",
       "      Bokeh.set_log_level(\"info\");\n",
       "    },\n",
       "    function(Bokeh) {\n",
       "    \n",
       "    \n",
       "    }\n",
       "  ];\n",
       "\n",
       "  function run_inline_js() {\n",
       "    \n",
       "    if (root.Bokeh !== undefined || force === true) {\n",
       "      \n",
       "    for (let i = 0; i < inline_js.length; i++) {\n",
       "      inline_js[i].call(root, root.Bokeh);\n",
       "    }\n",
       "    if (force === true) {\n",
       "        display_loaded();\n",
       "      }} else if (Date.now() < root._bokeh_timeout) {\n",
       "      setTimeout(run_inline_js, 100);\n",
       "    } else if (!root._bokeh_failed_load) {\n",
       "      console.log(\"Bokeh: BokehJS failed to load within specified timeout.\");\n",
       "      root._bokeh_failed_load = true;\n",
       "    } else if (force !== true) {\n",
       "      const cell = $(document.getElementById(\"1271\")).parents('.cell').data().cell;\n",
       "      cell.output_area.append_execute_result(NB_LOAD_WARNING)\n",
       "    }\n",
       "\n",
       "  }\n",
       "\n",
       "  if (root._bokeh_is_loading === 0) {\n",
       "    console.debug(\"Bokeh: BokehJS loaded, going straight to plotting\");\n",
       "    run_inline_js();\n",
       "  } else {\n",
       "    load_libs(css_urls, js_urls, function() {\n",
       "      console.debug(\"Bokeh: BokehJS plotting callback run at\", now());\n",
       "      run_inline_js();\n",
       "    });\n",
       "  }\n",
       "}(window));"
      ],
      "application/vnd.bokehjs_load.v0+json": "\n(function(root) {\n  function now() {\n    return new Date();\n  }\n\n  const force = true;\n\n  if (typeof root._bokeh_onload_callbacks === \"undefined\" || force === true) {\n    root._bokeh_onload_callbacks = [];\n    root._bokeh_is_loading = undefined;\n  }\n\n  \n\n  \n  if (typeof (root._bokeh_timeout) === \"undefined\" || force === true) {\n    root._bokeh_timeout = Date.now() + 5000;\n    root._bokeh_failed_load = false;\n  }\n\n  const NB_LOAD_WARNING = {'data': {'text/html':\n     \"<div style='background-color: #fdd'>\\n\"+\n     \"<p>\\n\"+\n     \"BokehJS does not appear to have successfully loaded. If loading BokehJS from CDN, this \\n\"+\n     \"may be due to a slow or bad network connection. Possible fixes:\\n\"+\n     \"</p>\\n\"+\n     \"<ul>\\n\"+\n     \"<li>re-rerun `output_notebook()` to attempt to load from CDN again, or</li>\\n\"+\n     \"<li>use INLINE resources instead, as so:</li>\\n\"+\n     \"</ul>\\n\"+\n     \"<code>\\n\"+\n     \"from bokeh.resources import INLINE\\n\"+\n     \"output_notebook(resources=INLINE)\\n\"+\n     \"</code>\\n\"+\n     \"</div>\"}};\n\n  function display_loaded() {\n    const el = document.getElementById(\"1271\");\n    if (el != null) {\n      el.textContent = \"BokehJS is loading...\";\n    }\n    if (root.Bokeh !== undefined) {\n      if (el != null) {\n        el.textContent = \"BokehJS \" + root.Bokeh.version + \" successfully loaded.\";\n      }\n    } else if (Date.now() < root._bokeh_timeout) {\n      setTimeout(display_loaded, 100)\n    }\n  }\n\n\n  function run_callbacks() {\n    try {\n      root._bokeh_onload_callbacks.forEach(function(callback) {\n        if (callback != null)\n          callback();\n      });\n    } finally {\n      delete root._bokeh_onload_callbacks\n    }\n    console.debug(\"Bokeh: all callbacks have finished\");\n  }\n\n  function load_libs(css_urls, js_urls, callback) {\n    if (css_urls == null) css_urls = [];\n    if (js_urls == null) js_urls = [];\n\n    root._bokeh_onload_callbacks.push(callback);\n    if (root._bokeh_is_loading > 0) {\n      console.debug(\"Bokeh: BokehJS is being loaded, scheduling callback at\", now());\n      return null;\n    }\n    if (js_urls == null || js_urls.length === 0) {\n      run_callbacks();\n      return null;\n    }\n    console.debug(\"Bokeh: BokehJS not loaded, scheduling load and callback at\", now());\n    root._bokeh_is_loading = css_urls.length + js_urls.length;\n\n    function on_load() {\n      root._bokeh_is_loading--;\n      if (root._bokeh_is_loading === 0) {\n        console.debug(\"Bokeh: all BokehJS libraries/stylesheets loaded\");\n        run_callbacks()\n      }\n    }\n\n    function on_error(url) {\n      console.error(\"failed to load \" + url);\n    }\n\n    for (let i = 0; i < css_urls.length; i++) {\n      const url = css_urls[i];\n      const element = document.createElement(\"link\");\n      element.onload = on_load;\n      element.onerror = on_error.bind(null, url);\n      element.rel = \"stylesheet\";\n      element.type = \"text/css\";\n      element.href = url;\n      console.debug(\"Bokeh: injecting link tag for BokehJS stylesheet: \", url);\n      document.body.appendChild(element);\n    }\n\n    for (let i = 0; i < js_urls.length; i++) {\n      const url = js_urls[i];\n      const element = document.createElement('script');\n      element.onload = on_load;\n      element.onerror = on_error.bind(null, url);\n      element.async = false;\n      element.src = url;\n      console.debug(\"Bokeh: injecting script tag for BokehJS library: \", url);\n      document.head.appendChild(element);\n    }\n  };\n\n  function inject_raw_css(css) {\n    const element = document.createElement(\"style\");\n    element.appendChild(document.createTextNode(css));\n    document.body.appendChild(element);\n  }\n\n  \n  const js_urls = [\"https://cdn.bokeh.org/bokeh/release/bokeh-2.4.0.min.js\", \"https://cdn.bokeh.org/bokeh/release/bokeh-gl-2.4.0.min.js\", \"https://cdn.bokeh.org/bokeh/release/bokeh-widgets-2.4.0.min.js\", \"https://cdn.bokeh.org/bokeh/release/bokeh-tables-2.4.0.min.js\", \"https://cdn.bokeh.org/bokeh/release/bokeh-mathjax-2.4.0.min.js\"];\n  const css_urls = [];\n  \n\n  const inline_js = [\n    function(Bokeh) {\n      Bokeh.set_log_level(\"info\");\n    },\n    function(Bokeh) {\n    \n    \n    }\n  ];\n\n  function run_inline_js() {\n    \n    if (root.Bokeh !== undefined || force === true) {\n      \n    for (let i = 0; i < inline_js.length; i++) {\n      inline_js[i].call(root, root.Bokeh);\n    }\n    if (force === true) {\n        display_loaded();\n      }} else if (Date.now() < root._bokeh_timeout) {\n      setTimeout(run_inline_js, 100);\n    } else if (!root._bokeh_failed_load) {\n      console.log(\"Bokeh: BokehJS failed to load within specified timeout.\");\n      root._bokeh_failed_load = true;\n    } else if (force !== true) {\n      const cell = $(document.getElementById(\"1271\")).parents('.cell').data().cell;\n      cell.output_area.append_execute_result(NB_LOAD_WARNING)\n    }\n\n  }\n\n  if (root._bokeh_is_loading === 0) {\n    console.debug(\"Bokeh: BokehJS loaded, going straight to plotting\");\n    run_inline_js();\n  } else {\n    load_libs(css_urls, js_urls, function() {\n      console.debug(\"Bokeh: BokehJS plotting callback run at\", now());\n      run_inline_js();\n    });\n  }\n}(window));"
     },
     "metadata": {},
     "output_type": "display_data"
    },
    {
     "name": "stderr",
     "output_type": "stream",
     "text": [
      "Na: 100%|███████████████████████████████| 1/1 [00:01<00:00,  1.32s/it]\n",
      "Cl: 100%|███████████████████████████████| 1/1 [00:01<00:00,  1.29s/it]\n"
     ]
    },
    {
     "data": {
      "text/html": [
       "\n",
       "\n",
       "\n",
       "\n",
       "\n",
       "\n",
       "  <div class=\"bk-root\" id=\"0d717961-4e9b-4709-8ee0-89045018872c\" data-root-id=\"1405\"></div>\n"
      ]
     },
     "metadata": {},
     "output_type": "display_data"
    },
    {
     "data": {
      "application/javascript": [
       "(function(root) {\n",
       "  function embed_document(root) {\n",
       "    \n",
       "  const docs_json = {\"44958406-5566-4c3c-9293-0dd7033a0468\":{\"defs\":[],\"roots\":{\"references\":[{\"attributes\":{\"children\":[{\"id\":\"1404\"},{\"id\":\"1402\"}],\"sizing_mode\":\"scale_both\"},\"id\":\"1405\",\"type\":\"Column\"},{\"attributes\":{},\"id\":\"1347\",\"type\":\"ResetTool\"},{\"attributes\":{\"below\":[{\"id\":\"1335\"}],\"center\":[{\"id\":\"1338\"},{\"id\":\"1342\"},{\"id\":\"1374\"},{\"id\":\"1325\"}],\"left\":[{\"id\":\"1339\"}],\"renderers\":[{\"id\":\"1361\"}],\"sizing_mode\":\"scale_both\",\"title\":{\"id\":\"1363\"},\"toolbar\":{\"id\":\"1350\"},\"toolbar_location\":null,\"x_range\":{\"id\":\"1327\"},\"x_scale\":{\"id\":\"1331\"},\"y_range\":{\"id\":\"1329\"},\"y_scale\":{\"id\":\"1333\"}},\"id\":\"1326\",\"subtype\":\"Figure\",\"type\":\"Plot\"},{\"attributes\":{},\"id\":\"1290\",\"type\":\"PanTool\"},{\"attributes\":{\"axis\":{\"id\":\"1282\"},\"coordinates\":null,\"group\":null,\"ticker\":null},\"id\":\"1285\",\"type\":\"Grid\"},{\"attributes\":{},\"id\":\"1327\",\"type\":\"DataRange1d\"},{\"attributes\":{\"coordinates\":null,\"group\":null,\"items\":[{\"id\":\"1322\"}]},\"id\":\"1321\",\"type\":\"Legend\"},{\"attributes\":{},\"id\":\"1317\",\"type\":\"AllLabels\"},{\"attributes\":{\"axis_label\":\"$$\\\\text{Time} / s$$\",\"coordinates\":null,\"formatter\":{\"id\":\"1369\"},\"group\":null,\"major_label_policy\":{\"id\":\"1370\"},\"ticker\":{\"id\":\"1336\"}},\"id\":\"1335\",\"type\":\"LinearAxis\"},{\"attributes\":{\"coordinates\":null,\"group\":null,\"items\":[{\"id\":\"1375\"}]},\"id\":\"1374\",\"type\":\"Legend\"},{\"attributes\":{},\"id\":\"1372\",\"type\":\"Selection\"},{\"attributes\":{\"toolbars\":[{\"id\":\"1297\"},{\"id\":\"1350\"}],\"tools\":[{\"id\":\"1290\"},{\"id\":\"1291\"},{\"id\":\"1292\"},{\"id\":\"1293\"},{\"id\":\"1294\"},{\"id\":\"1295\"},{\"id\":\"1323\"},{\"id\":\"1343\"},{\"id\":\"1344\"},{\"id\":\"1345\"},{\"id\":\"1346\"},{\"id\":\"1347\"},{\"id\":\"1348\"},{\"id\":\"1376\"}]},\"id\":\"1403\",\"type\":\"ProxyToolbar\"},{\"attributes\":{\"axis\":{\"id\":\"1286\"},\"coordinates\":null,\"dimension\":1,\"group\":null,\"ticker\":null},\"id\":\"1289\",\"type\":\"Grid\"},{\"attributes\":{\"coordinates\":null,\"dimension\":\"height\",\"group\":null,\"line_dash\":[6],\"location\":5.98e-13},\"id\":\"1272\",\"type\":\"Span\"},{\"attributes\":{\"line_alpha\":0.1,\"line_color\":\"#1f77b4\",\"x\":{\"field\":\"x\"},\"y\":{\"field\":\"y\"}},\"id\":\"1359\",\"type\":\"Line\"},{\"attributes\":{},\"id\":\"1287\",\"type\":\"BasicTicker\"},{\"attributes\":{\"axis_label\":\"$$\\\\text{VACF} / m^{2}/s^{2}$$\",\"coordinates\":null,\"formatter\":{\"id\":\"1313\"},\"group\":null,\"major_label_policy\":{\"id\":\"1314\"},\"ticker\":{\"id\":\"1287\"}},\"id\":\"1286\",\"type\":\"LinearAxis\"},{\"attributes\":{},\"id\":\"1343\",\"type\":\"PanTool\"},{\"attributes\":{\"bottom_units\":\"screen\",\"coordinates\":null,\"fill_alpha\":0.5,\"fill_color\":\"lightgrey\",\"group\":null,\"left_units\":\"screen\",\"level\":\"overlay\",\"line_alpha\":1.0,\"line_color\":\"black\",\"line_dash\":[4,4],\"line_width\":2,\"right_units\":\"screen\",\"syncable\":false,\"top_units\":\"screen\"},\"id\":\"1296\",\"type\":\"BoxAnnotation\"},{\"attributes\":{},\"id\":\"1369\",\"type\":\"BasicTickFormatter\"},{\"attributes\":{\"bottom_units\":\"screen\",\"coordinates\":null,\"fill_alpha\":0.5,\"fill_color\":\"lightgrey\",\"group\":null,\"left_units\":\"screen\",\"level\":\"overlay\",\"line_alpha\":1.0,\"line_color\":\"black\",\"line_dash\":[4,4],\"line_width\":2,\"right_units\":\"screen\",\"syncable\":false,\"top_units\":\"screen\"},\"id\":\"1349\",\"type\":\"BoxAnnotation\"},{\"attributes\":{},\"id\":\"1348\",\"type\":\"HelpTool\"},{\"attributes\":{\"coordinates\":null,\"group\":null},\"id\":\"1310\",\"type\":\"Title\"},{\"attributes\":{},\"id\":\"1319\",\"type\":\"Selection\"},{\"attributes\":{\"below\":[{\"id\":\"1282\"}],\"center\":[{\"id\":\"1285\"},{\"id\":\"1289\"},{\"id\":\"1321\"},{\"id\":\"1272\"}],\"left\":[{\"id\":\"1286\"}],\"renderers\":[{\"id\":\"1308\"}],\"sizing_mode\":\"scale_both\",\"title\":{\"id\":\"1310\"},\"toolbar\":{\"id\":\"1297\"},\"toolbar_location\":null,\"x_range\":{\"id\":\"1274\"},\"x_scale\":{\"id\":\"1278\"},\"y_range\":{\"id\":\"1276\"},\"y_scale\":{\"id\":\"1280\"}},\"id\":\"1273\",\"subtype\":\"Figure\",\"type\":\"Plot\"},{\"attributes\":{},\"id\":\"1291\",\"type\":\"WheelZoomTool\"},{\"attributes\":{\"callback\":null},\"id\":\"1376\",\"type\":\"HoverTool\"},{\"attributes\":{\"axis\":{\"id\":\"1339\"},\"coordinates\":null,\"dimension\":1,\"group\":null,\"ticker\":null},\"id\":\"1342\",\"type\":\"Grid\"},{\"attributes\":{\"tools\":[{\"id\":\"1343\"},{\"id\":\"1344\"},{\"id\":\"1345\"},{\"id\":\"1346\"},{\"id\":\"1347\"},{\"id\":\"1348\"},{\"id\":\"1376\"}]},\"id\":\"1350\",\"type\":\"Toolbar\"},{\"attributes\":{},\"id\":\"1316\",\"type\":\"BasicTickFormatter\"},{\"attributes\":{\"tools\":[{\"id\":\"1290\"},{\"id\":\"1291\"},{\"id\":\"1292\"},{\"id\":\"1293\"},{\"id\":\"1294\"},{\"id\":\"1295\"},{\"id\":\"1323\"}]},\"id\":\"1297\",\"type\":\"Toolbar\"},{\"attributes\":{\"line_color\":\"#1f77b4\",\"x\":{\"field\":\"x\"},\"y\":{\"field\":\"y\"}},\"id\":\"1305\",\"type\":\"Line\"},{\"attributes\":{},\"id\":\"1329\",\"type\":\"DataRange1d\"},{\"attributes\":{},\"id\":\"1294\",\"type\":\"ResetTool\"},{\"attributes\":{},\"id\":\"1333\",\"type\":\"LinearScale\"},{\"attributes\":{\"coordinates\":null,\"dimension\":\"height\",\"group\":null,\"line_dash\":[6],\"location\":5.98e-13},\"id\":\"1325\",\"type\":\"Span\"},{\"attributes\":{\"children\":[[{\"id\":\"1273\"},0,0],[{\"id\":\"1326\"},0,1]]},\"id\":\"1402\",\"type\":\"GridBox\"},{\"attributes\":{},\"id\":\"1340\",\"type\":\"BasicTicker\"},{\"attributes\":{},\"id\":\"1344\",\"type\":\"WheelZoomTool\"},{\"attributes\":{\"axis_label\":\"$$\\\\text{VACF} / m^{2}/s^{2}$$\",\"coordinates\":null,\"formatter\":{\"id\":\"1366\"},\"group\":null,\"major_label_policy\":{\"id\":\"1367\"},\"ticker\":{\"id\":\"1340\"}},\"id\":\"1339\",\"type\":\"LinearAxis\"},{\"attributes\":{\"line_alpha\":0.2,\"line_color\":\"#1f77b4\",\"x\":{\"field\":\"x\"},\"y\":{\"field\":\"y\"}},\"id\":\"1307\",\"type\":\"Line\"},{\"attributes\":{\"data\":{\"x\":{\"__ndarray__\":\"AAAAAAAAAAAWVueerwPiPBZW556vA/I8IAFbbocF+zwWVueerwMCPZsroYabhAY9IAFbbocFCz2m1hRWc4YPPRZW556vAxI92UDEkiVEFD2bK6GGm4QWPV0WfnoRxRg9IAFbbocFGz3k6zdi/UUdPabWFFZzhh89tOD4pHTjID0WVueerwMiPXfL1ZjqIyM92UDEkiVEJD05trKMYGQlPZsroYabhCY9/aCPgNakJz1dFn56EcUoPb+LbHRM5Sk9IAFbbocFKz2CdklowiUsPeTrN2L9RS09RGEmXDhmLj2m1hRWc4YvPQSmAShXUzA9tOD4pHTjMD1lG/AhknMxPRZW556vAzI9xpDeG82TMj13y9WY6iMzPSgGzRUItDM92UDEkiVEND2Je7sPQ9Q0PTm2soxgZDU96vCpCX70NT2bK6GGm4Q2PUxmmAO5FDc9/aCPgNakNz2t24b98zQ4PV0WfnoRxTg9DlF19y5VOT2/i2x0TOU5PXDGY/FpdTo9IAFbbocFOz3RO1LrpJU7PYJ2SWjCJTw9M7FA5d+1PD3k6zdi/UU9PZMmL98a1j09RGEmXDhmPj31mx3ZVfY+PabWFFZzhj89qwiGaUgLQD0EpgEoV1NAPVxDfeZlm0A9tOD4pHTjQD0MfnRjgytBPWUb8CGSc0E9vbhr4KC7QT0WVueerwNCPW7zYl2+S0I9xpDeG82TQj0fLlra29tCPXfL1ZjqI0M90GhRV/lrQz0oBs0VCLRDPYCjSNQW/EM92UDEkiVERD0w3j9RNIxEPYl7uw9D1EQ94Rg3zlEcRT05trKMYGRFPZJTLktvrEU96vCpCX70RT1DjiXIjDxGPZsroYabhEY988gcRarMRj1MZpgDuRRHPaQDFMLHXEc9/aCPgNakRz1VPgs/5exHPa3bhv3zNEg9BnkCvAJ9SD1dFn56EcVIPbaz+TggDUk9DlF19y5VST1m7vC1PZ1JPb+LbHRM5Uk9FynoMlstSj1wxmPxaXVKPchj3694vUo9IAFbbocFSz15ntYslk1LPdE7UuuklUs9KtnNqbPdSz2CdklowiVMPdoTxSbRbUw9M7FA5d+1TD2LTryj7v1MPeTrN2L9RU09O4mzIAyOTT2TJi/fGtZNPezDqp0pHk49RGEmXDhmTj2d/qEaR65OPfWbHdlV9k49TTmZl2Q+Tz2m1hRWc4ZPPf5zkBSCzk89qwiGaUgLUD1Y18PITy9QPQSmAShXU1A9sHQ/h153UD1cQ33mZZtQPQgSu0Vtv1A9tOD4pHTjUD1grzYEfAdRPQx+dGODK1E9uUyywopPUT1lG/AhknNRPRHqLYGZl1E9vbhr4KC7UT1ph6k/qN9RPRZW556vA1I9wiQl/rYnUj1u82JdvktSPRrCoLzFb1I9xpDeG82TUj1zXxx71LdSPR8uWtrb21I9y/yXOeP/Uj13y9WY6iNTPSOaE/jxR1M90GhRV/lrUz18N4+2AJBTPSgGzRUItFM91NQKdQ/YUz2Ao0jUFvxTPS1yhjMeIFQ92UDEkiVEVD2EDwLyLGhUPTDeP1E0jFQ93Kx9sDuwVD2Je7sPQ9RUPTVK+W5K+FQ94Rg3zlEcVT2N53QtWUBVPTm2soxgZFU95oTw62eIVT2SUy5Lb6xVPT4ibKp20FU96vCpCX70VT2Wv+dohRhWPUOOJciMPFY971xjJ5RgVj2bK6GGm4RWPUf63uWiqFY988gcRarMVj2gl1qksfBWPUxmmAO5FFc9+DTWYsA4Vz2kAxTCx1xXPVDSUSHPgFc9/aCPgNakVz2pb83f3chXPVU+Cz/l7Fc9AQ1JnuwQWD2t24b98zRYPVqqxFz7WFg9BnkCvAJ9WD2yR0AbCqFYPV0WfnoRxVg9CeW72RjpWD22s/k4IA1ZPWKCN5gnMVk9DlF19y5VWT26H7NWNnlZPWbu8LU9nVk9E70uFUXBWT2/i2x0TOVZPWtaqtNTCVo9FynoMlstWj3D9yWSYlFaPXDGY/FpdVo9HJWhUHGZWj3IY9+veL1aPXQyHQ+A4Vo9IAFbbocFWz3Nz5jNjilbPXme1iyWTVs9JW0UjJ1xWz3RO1LrpJVbPX0KkEqsuVs9KtnNqbPdWz3WpwsJuwFcPYJ2SWjCJVw9LkWHx8lJXD3aE8Um0W1cPYfiAobYkVw9M7FA5d+1XD3ff35E59lcPYtOvKPu/Vw9Nx36AvYhXT3k6zdi/UVdPY+6dcEEal09O4mzIAyOXT3nV/F/E7JdPZMmL98a1l09QPVsPiL6XT3sw6qdKR5ePZiS6PwwQl49RGEmXDhmXj3wL2S7P4pePZ3+oRpHrl49Sc3feU7SXj31mx3ZVfZePaFqWzhdGl89TTmZl2Q+Xz36B9f2a2JfPabWFFZzhl89UqVStXqqXz3+c5AUgs5fPapCznOJ8l89qwiGaUgLYD0B8CQZTB1gPVjXw8hPL2A9rr5ieFNBYD0EpgEoV1NgPVqNoNdaZWA9sHQ/h153YD0GXN42YolgPVxDfeZlm2A9sioclmmtYD0IErtFbb9gPV75WfVw0WA9tOD4pHTjYD0KyJdUePVgPWCvNgR8B2E9tpbVs38ZYT0MfnRjgythPWJlExOHPWE9uUyywopPYT0PNFFyjmFhPWUb8CGSc2E9uwKP0ZWFYT0R6i2BmZdhPWfRzDCdqWE9vbhr4KC7YT0ToAqQpM1hPWmHqT+o32E9wG5I76vxYT0WVueerwNiPWw9hk6zFWI9wiQl/rYnYj0YDMStujliPW7zYl2+S2I9xNoBDcJdYj0awqC8xW9iPXCpP2zJgWI9xpDeG82TYj0deH3L0KViPXNfHHvUt2I9yUa7KtjJYj0fLlra29tiPXUV+Ynf7WI9y/yXOeP/Yj0h5Dbp5hFjPXfL1ZjqI2M9zbJ0SO41Yz0jmhP48UdjPXqBsqf1WWM90GhRV/lrYz0mUPAG/X1jPXw3j7YAkGM90h4uZgSiYz0oBs0VCLRjPX7ta8ULxmM91NQKdQ/YYz0qvKkkE+pjPYCjSNQW/GM914rngxoOZD0tcoYzHiBkPYNZJeMhMmQ92UDEkiVEZD0uKGNCKVZkPYQPAvIsaGQ92vagoTB6ZD0w3j9RNIxkPYbF3gA4nmQ93Kx9sDuwZD0ylBxgP8JkPYl7uw9D1GQ932Jav0bmZD01SvluSvhkPYsxmB5OCmU94Rg3zlEcZT03ANZ9VS5lPY3ndC1ZQGU9484T3VxSZT05trKMYGRlPY+dUTxkdmU95oTw62eIZT08bI+ba5plPZJTLktvrGU96DrN+nK+ZT0+ImyqdtBlPZQJC1p64mU96vCpCX70ZT1A2Ei5gQZmPZa/52iFGGY97aaGGIkqZj1DjiXIjDxmPZl1xHeQTmY971xjJ5RgZj1FRALXl3JmPZsroYabhGY98RJANp+WZj1H+t7loqhmPZ3hfZWmumY988gcRarMZj1KsLv0rd5mPaCXWqSx8GY99n75U7UCZz1MZpgDuRRnPaJNN7O8Jmc9+DTWYsA4Zz1OHHUSxEpnPaQDFMLHXGc9+uqycctuZz1Q0lEhz4BnPae58NDSkmc9/aCPgNakZz1TiC4w2rZnPalvzd/dyGc9/1Zsj+HaZz1VPgs/5exnPaslqu7o/mc9AQ1JnuwQaD1X9OdN8CJoPa3bhv3zNGg9BMMlrfdGaD1aqsRc+1hoPbCRYwz/amg9BnkCvAJ9aD1cYKFrBo9oPbJHQBsKoWg9CC/fyg2zaD1dFn56EcVoPbP9HCoV12g9CeW72RjpaD1fzFqJHPtoPbaz+TggDWk9DJuY6CMfaT1igjeYJzFpPbhp1kcrQ2k9DlF19y5VaT1kOBSnMmdpPbofs1Y2eWk9EAdSBjqLaT1m7vC1PZ1pPbzVj2VBr2k9E70uFUXBaT1ppM3ESNNpPb+LbHRM5Wk9FXMLJFD3aT1rWqrTUwlqPcFBSYNXG2o9FynoMlstaj1tEIfiXj9qPcP3JZJiUWo9Gt/EQWZjaj1wxmPxaXVqPcatAqFth2o9HJWhUHGZaj1yfEAAdatqPchj3694vWo9Hkt+X3zPaj10Mh0PgOFqPcoZvL6D82o9IAFbbocFaz136PkdixdrPc3PmM2OKWs9I7c3fZI7az15ntYslk1rPc+FddyZX2s9JW0UjJ1xaz17VLM7oYNrPdE7UuuklWs9JyPxmqinaz19CpBKrLlrPdTxLvqvy2s9KtnNqbPdaz2AwGxZt+9rPdanCwm7AWw9LI+quL4TbD2CdklowiVsPdhd6BfGN2w9LkWHx8lJbD2ELCZ3zVtsPdoTxSbRbWw9Mftj1tR/bD2H4gKG2JFsPd3JoTXco2w9M7FA5d+1bD2JmN+U48dsPd9/fkTn2Ww9NWcd9OrrbD2LTryj7v1sPeE1W1PyD209Nx36AvYhbT2OBJmy+TNtPeTrN2L9RW09OdPWEQFYbT2PunXBBGptPeWhFHEIfG09O4mzIAyObT2RcFLQD6BtPedX8X8Tsm09PT+QLxfEbT2TJi/fGtZtPekNzo4e6G09QPVsPiL6bT2W3AvuJQxuPezDqp0pHm49QqtJTS0wbj2Ykuj8MEJuPe55h6w0VG49RGEmXDhmbj2aSMULPHhuPfAvZLs/im49RhcDa0Ocbj2d/qEaR65uPfPlQMpKwG49Sc3feU7Sbj2ftH4pUuRuPfWbHdlV9m49S4O8iFkIbz2hals4XRpvPfdR+udgLG89TTmZl2Q+bz2kIDhHaFBvPfoH1/ZrYm89UO91pm90bz2m1hRWc4ZvPfy9swV3mG89UqVStXqqbz2ojPFkfrxvPf5zkBSCzm89VFsvxIXgbz2qQs5zifJvPQCVtpFGAnA9qwiGaUgLcD1WfFVBShRwPQHwJBlMHXA9rGP08E0mcD1Y18PITy9wPQNLk6BROHA9rr5ieFNBcD1ZMjJQVUpwPQSmAShXU3A9rxnR/1hccD1ajaDXWmVwPQUBcK9cbnA9sHQ/h153cD1b6A5fYIBwPQZc3jZiiXA9sc+tDmSScD1cQ33mZZtwPQe3TL5npHA9sioclmmtcD1dnutta7ZwPQgSu0Vtv3A9s4WKHW/IcD1e+Vn1cNFwPQltKc1y2nA9tOD4pHTjcD1fVMh8duxwPQrIl1R49XA9tTtnLHr+cD1grzYEfAdxPQsjBtx9EHE9tpbVs38ZcT1hCqWLgSJxPQx+dGODK3E9t/FDO4U0cT0=\",\"dtype\":\"float64\",\"order\":\"little\",\"shape\":[490]},\"y\":{\"__ndarray__\":\"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\",\"dtype\":\"float64\",\"order\":\"little\",\"shape\":[490]}},\"selected\":{\"id\":\"1372\"},\"selection_policy\":{\"id\":\"1371\"}},\"id\":\"1357\",\"type\":\"ColumnDataSource\"},{\"attributes\":{},\"id\":\"1367\",\"type\":\"AllLabels\"},{\"attributes\":{\"line_color\":\"#1f77b4\",\"x\":{\"field\":\"x\"},\"y\":{\"field\":\"y\"}},\"id\":\"1358\",\"type\":\"Line\"},{\"attributes\":{\"overlay\":{\"id\":\"1349\"}},\"id\":\"1345\",\"type\":\"BoxZoomTool\"},{\"attributes\":{},\"id\":\"1274\",\"type\":\"DataRange1d\"},{\"attributes\":{\"source\":{\"id\":\"1304\"}},\"id\":\"1309\",\"type\":\"CDSView\"},{\"attributes\":{},\"id\":\"1293\",\"type\":\"SaveTool\"},{\"attributes\":{},\"id\":\"1366\",\"type\":\"BasicTickFormatter\"},{\"attributes\":{},\"id\":\"1371\",\"type\":\"UnionRenderers\"},{\"attributes\":{},\"id\":\"1278\",\"type\":\"LinearScale\"},{\"attributes\":{},\"id\":\"1314\",\"type\":\"AllLabels\"},{\"attributes\":{},\"id\":\"1283\",\"type\":\"BasicTicker\"},{\"attributes\":{\"axis\":{\"id\":\"1335\"},\"coordinates\":null,\"group\":null,\"ticker\":null},\"id\":\"1338\",\"type\":\"Grid\"},{\"attributes\":{\"toolbar\":{\"id\":\"1403\"},\"toolbar_location\":\"above\"},\"id\":\"1404\",\"type\":\"ToolbarBox\"},{\"attributes\":{\"coordinates\":null,\"data_source\":{\"id\":\"1304\"},\"glyph\":{\"id\":\"1305\"},\"group\":null,\"hover_glyph\":null,\"muted_glyph\":{\"id\":\"1307\"},\"nonselection_glyph\":{\"id\":\"1306\"},\"view\":{\"id\":\"1309\"}},\"id\":\"1308\",\"type\":\"GlyphRenderer\"},{\"attributes\":{},\"id\":\"1276\",\"type\":\"DataRange1d\"},{\"attributes\":{},\"id\":\"1336\",\"type\":\"BasicTicker\"},{\"attributes\":{},\"id\":\"1280\",\"type\":\"LinearScale\"},{\"attributes\":{\"line_alpha\":0.2,\"line_color\":\"#1f77b4\",\"x\":{\"field\":\"x\"},\"y\":{\"field\":\"y\"}},\"id\":\"1360\",\"type\":\"Line\"},{\"attributes\":{\"callback\":null},\"id\":\"1323\",\"type\":\"HoverTool\"},{\"attributes\":{\"coordinates\":null,\"data_source\":{\"id\":\"1357\"},\"glyph\":{\"id\":\"1358\"},\"group\":null,\"hover_glyph\":null,\"muted_glyph\":{\"id\":\"1360\"},\"nonselection_glyph\":{\"id\":\"1359\"},\"view\":{\"id\":\"1362\"}},\"id\":\"1361\",\"type\":\"GlyphRenderer\"},{\"attributes\":{\"source\":{\"id\":\"1357\"}},\"id\":\"1362\",\"type\":\"CDSView\"},{\"attributes\":{},\"id\":\"1295\",\"type\":\"HelpTool\"},{\"attributes\":{},\"id\":\"1313\",\"type\":\"BasicTickFormatter\"},{\"attributes\":{\"coordinates\":null,\"group\":null},\"id\":\"1363\",\"type\":\"Title\"},{\"attributes\":{},\"id\":\"1346\",\"type\":\"SaveTool\"},{\"attributes\":{},\"id\":\"1370\",\"type\":\"AllLabels\"},{\"attributes\":{\"label\":{\"value\":\"Na:  5.842E-08 +-  2.848E-10\"},\"renderers\":[{\"id\":\"1308\"}]},\"id\":\"1322\",\"type\":\"LegendItem\"},{\"attributes\":{\"data\":{\"x\":{\"__ndarray__\":\"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\",\"dtype\":\"float64\",\"order\":\"little\",\"shape\":[490]},\"y\":{\"__ndarray__\":\"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\",\"dtype\":\"float64\",\"order\":\"little\",\"shape\":[490]}},\"selected\":{\"id\":\"1319\"},\"selection_policy\":{\"id\":\"1318\"}},\"id\":\"1304\",\"type\":\"ColumnDataSource\"},{\"attributes\":{\"line_alpha\":0.1,\"line_color\":\"#1f77b4\",\"x\":{\"field\":\"x\"},\"y\":{\"field\":\"y\"}},\"id\":\"1306\",\"type\":\"Line\"},{\"attributes\":{\"axis_label\":\"$$\\\\text{Time} / s$$\",\"coordinates\":null,\"formatter\":{\"id\":\"1316\"},\"group\":null,\"major_label_policy\":{\"id\":\"1317\"},\"ticker\":{\"id\":\"1283\"}},\"id\":\"1282\",\"type\":\"LinearAxis\"},{\"attributes\":{},\"id\":\"1331\",\"type\":\"LinearScale\"},{\"attributes\":{\"label\":{\"value\":\"Cl:  4.864E-08 +-  2.091E-09\"},\"renderers\":[{\"id\":\"1361\"}]},\"id\":\"1375\",\"type\":\"LegendItem\"},{\"attributes\":{},\"id\":\"1318\",\"type\":\"UnionRenderers\"},{\"attributes\":{\"overlay\":{\"id\":\"1296\"}},\"id\":\"1292\",\"type\":\"BoxZoomTool\"}],\"root_ids\":[\"1405\"]},\"title\":\"Bokeh Application\",\"version\":\"2.4.0\"}};\n",
       "  const render_items = [{\"docid\":\"44958406-5566-4c3c-9293-0dd7033a0468\",\"root_ids\":[\"1405\"],\"roots\":{\"1405\":\"0d717961-4e9b-4709-8ee0-89045018872c\"}}];\n",
       "  root.Bokeh.embed.embed_items_notebook(docs_json, render_items);\n",
       "\n",
       "  }\n",
       "  if (root.Bokeh !== undefined) {\n",
       "    embed_document(root);\n",
       "  } else {\n",
       "    let attempts = 0;\n",
       "    const timer = setInterval(function(root) {\n",
       "      if (root.Bokeh !== undefined) {\n",
       "        clearInterval(timer);\n",
       "        embed_document(root);\n",
       "      } else {\n",
       "        attempts++;\n",
       "        if (attempts > 100) {\n",
       "          clearInterval(timer);\n",
       "          console.log(\"Bokeh: ERROR: Unable to run BokehJS code because BokehJS library is missing\");\n",
       "        }\n",
       "      }\n",
       "    }, 10, root)\n",
       "  }\n",
       "})(window);"
      ],
      "application/vnd.bokehjs_exec.v0+json": ""
     },
     "metadata": {
      "application/vnd.bokehjs_exec.v0+json": {
       "id": "1405"
      }
     },
     "output_type": "display_data"
    },
    {
     "data": {
      "text/plain": [
       "{'NaCl_GK': None}"
      ]
     },
     "execution_count": 8,
     "metadata": {},
     "output_type": "execute_result"
    }
   ],
   "source": [
    "project.run.GreenKuboDiffusionCoefficients(\n",
    "    data_range=490, plot=True, correlation_time=1, integration_range=300\n",
    ")"
   ]
  },
  {
   "cell_type": "code",
   "execution_count": 9,
   "metadata": {},
   "outputs": [],
   "source": [
    "temp_dir.cleanup()"
   ]
  }
 ],
 "metadata": {
  "kernelspec": {
   "display_name": "Python 3",
   "language": "python",
   "name": "python3"
  },
  "language_info": {
   "codemirror_mode": {
    "name": "ipython",
    "version": 3
   },
   "file_extension": ".py",
   "mimetype": "text/x-python",
   "name": "python",
   "nbconvert_exporter": "python",
   "pygments_lexer": "ipython3",
   "version": "3.8.10"
  }
 },
 "nbformat": 4,
 "nbformat_minor": 4
}
