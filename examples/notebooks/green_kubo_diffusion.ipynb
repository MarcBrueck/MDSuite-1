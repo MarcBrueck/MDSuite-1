{
 "cells": [
  {
   "cell_type": "code",
   "execution_count": 1,
   "id": "5dc4e981-a7ec-4c75-9962-c47895e4d032",
   "metadata": {},
   "outputs": [
    {
     "name": "stdout",
     "output_type": "stream",
     "text": [
      "Jupyter environment detected. Enabling Open3D WebVisualizer.\n",
      "[Open3D INFO] WebRTC GUI backend enabled.\n",
      "[Open3D INFO] WebRTCWindowSystem: HTTP handshake server disabled.\n"
     ]
    }
   ],
   "source": [
    "from zinchub import DataHub\n",
    "import mdsuite as mds"
   ]
  },
  {
   "cell_type": "code",
   "execution_count": 2,
   "id": "3cf35074-6729-4ffc-9e46-b7b0088a02ca",
   "metadata": {},
   "outputs": [],
   "source": [
    "NaCl = DataHub(url=\"https://github.com/zincware/DataHub/tree/main/NaCl_gk_i_q\")\n",
    "NaCl.get_file(path=\".\")"
   ]
  },
  {
   "cell_type": "code",
   "execution_count": 3,
   "id": "d64da139-7bd9-48e0-b808-0981facea3df",
   "metadata": {},
   "outputs": [],
   "source": [
    "project = mds.Project(\"GK_Diffusion_Example\")"
   ]
  },
  {
   "cell_type": "code",
   "execution_count": 4,
   "id": "fb939f9c-9092-4144-b46b-b562ef1dc64f",
   "metadata": {},
   "outputs": [
    {
     "name": "stdout",
     "output_type": "stream",
     "text": [
      "2021-11-25 09:37:13,323 - INFO: Creating a new experiment!\n",
      "2021-11-25 09:37:13,324 - INFO: ** An experiment has been added titled NaCl_GK **\n"
     ]
    },
    {
     "name": "stderr",
     "output_type": "stream",
     "text": [
      "100%|███████████████████████████████████| 1/1 [00:07<00:00,  7.62s/it]\n"
     ]
    }
   ],
   "source": [
    "project.add_experiment(\n",
    "        experiment=\"NaCl_GK\",\n",
    "        timestep=0.002,\n",
    "        temperature=1400.0,\n",
    "        units=\"metal\",\n",
    "        data=\"NaCl_gk_i_q.lammpstraj\",\n",
    "    )"
   ]
  },
  {
   "cell_type": "code",
   "execution_count": 5,
   "id": "af1016db-732e-4911-8104-2fd956166646",
   "metadata": {},
   "outputs": [
    {
     "name": "stderr",
     "output_type": "stream",
     "text": [
      "Na: 100%|███████████████████████████████| 1/1 [00:01<00:00,  1.22s/it]\n",
      "Cl: 100%|███████████████████████████████| 1/1 [00:01<00:00,  1.22s/it]\n"
     ]
    },
    {
     "data": {
      "text/html": [
       "\n",
       "    <div class=\"bk-root\">\n",
       "        <a href=\"https://bokeh.org\" target=\"_blank\" class=\"bk-logo bk-logo-small bk-logo-notebook\"></a>\n",
       "        <span id=\"1002\">Loading BokehJS ...</span>\n",
       "    </div>"
      ]
     },
     "metadata": {},
     "output_type": "display_data"
    },
    {
     "data": {
      "application/javascript": [
       "\n",
       "(function(root) {\n",
       "  function now() {\n",
       "    return new Date();\n",
       "  }\n",
       "\n",
       "  const force = true;\n",
       "\n",
       "  if (typeof root._bokeh_onload_callbacks === \"undefined\" || force === true) {\n",
       "    root._bokeh_onload_callbacks = [];\n",
       "    root._bokeh_is_loading = undefined;\n",
       "  }\n",
       "\n",
       "  const JS_MIME_TYPE = 'application/javascript';\n",
       "  const HTML_MIME_TYPE = 'text/html';\n",
       "  const EXEC_MIME_TYPE = 'application/vnd.bokehjs_exec.v0+json';\n",
       "  const CLASS_NAME = 'output_bokeh rendered_html';\n",
       "\n",
       "  /**\n",
       "   * Render data to the DOM node\n",
       "   */\n",
       "  function render(props, node) {\n",
       "    const script = document.createElement(\"script\");\n",
       "    node.appendChild(script);\n",
       "  }\n",
       "\n",
       "  /**\n",
       "   * Handle when an output is cleared or removed\n",
       "   */\n",
       "  function handleClearOutput(event, handle) {\n",
       "    const cell = handle.cell;\n",
       "\n",
       "    const id = cell.output_area._bokeh_element_id;\n",
       "    const server_id = cell.output_area._bokeh_server_id;\n",
       "    // Clean up Bokeh references\n",
       "    if (id != null && id in Bokeh.index) {\n",
       "      Bokeh.index[id].model.document.clear();\n",
       "      delete Bokeh.index[id];\n",
       "    }\n",
       "\n",
       "    if (server_id !== undefined) {\n",
       "      // Clean up Bokeh references\n",
       "      const cmd_clean = \"from bokeh.io.state import curstate; print(curstate().uuid_to_server['\" + server_id + \"'].get_sessions()[0].document.roots[0]._id)\";\n",
       "      cell.notebook.kernel.execute(cmd_clean, {\n",
       "        iopub: {\n",
       "          output: function(msg) {\n",
       "            const id = msg.content.text.trim();\n",
       "            if (id in Bokeh.index) {\n",
       "              Bokeh.index[id].model.document.clear();\n",
       "              delete Bokeh.index[id];\n",
       "            }\n",
       "          }\n",
       "        }\n",
       "      });\n",
       "      // Destroy server and session\n",
       "      const cmd_destroy = \"import bokeh.io.notebook as ion; ion.destroy_server('\" + server_id + \"')\";\n",
       "      cell.notebook.kernel.execute(cmd_destroy);\n",
       "    }\n",
       "  }\n",
       "\n",
       "  /**\n",
       "   * Handle when a new output is added\n",
       "   */\n",
       "  function handleAddOutput(event, handle) {\n",
       "    const output_area = handle.output_area;\n",
       "    const output = handle.output;\n",
       "\n",
       "    // limit handleAddOutput to display_data with EXEC_MIME_TYPE content only\n",
       "    if ((output.output_type != \"display_data\") || (!Object.prototype.hasOwnProperty.call(output.data, EXEC_MIME_TYPE))) {\n",
       "      return\n",
       "    }\n",
       "\n",
       "    const toinsert = output_area.element.find(\".\" + CLASS_NAME.split(' ')[0]);\n",
       "\n",
       "    if (output.metadata[EXEC_MIME_TYPE][\"id\"] !== undefined) {\n",
       "      toinsert[toinsert.length - 1].firstChild.textContent = output.data[JS_MIME_TYPE];\n",
       "      // store reference to embed id on output_area\n",
       "      output_area._bokeh_element_id = output.metadata[EXEC_MIME_TYPE][\"id\"];\n",
       "    }\n",
       "    if (output.metadata[EXEC_MIME_TYPE][\"server_id\"] !== undefined) {\n",
       "      const bk_div = document.createElement(\"div\");\n",
       "      bk_div.innerHTML = output.data[HTML_MIME_TYPE];\n",
       "      const script_attrs = bk_div.children[0].attributes;\n",
       "      for (let i = 0; i < script_attrs.length; i++) {\n",
       "        toinsert[toinsert.length - 1].firstChild.setAttribute(script_attrs[i].name, script_attrs[i].value);\n",
       "        toinsert[toinsert.length - 1].firstChild.textContent = bk_div.children[0].textContent\n",
       "      }\n",
       "      // store reference to server id on output_area\n",
       "      output_area._bokeh_server_id = output.metadata[EXEC_MIME_TYPE][\"server_id\"];\n",
       "    }\n",
       "  }\n",
       "\n",
       "  function register_renderer(events, OutputArea) {\n",
       "\n",
       "    function append_mime(data, metadata, element) {\n",
       "      // create a DOM node to render to\n",
       "      const toinsert = this.create_output_subarea(\n",
       "        metadata,\n",
       "        CLASS_NAME,\n",
       "        EXEC_MIME_TYPE\n",
       "      );\n",
       "      this.keyboard_manager.register_events(toinsert);\n",
       "      // Render to node\n",
       "      const props = {data: data, metadata: metadata[EXEC_MIME_TYPE]};\n",
       "      render(props, toinsert[toinsert.length - 1]);\n",
       "      element.append(toinsert);\n",
       "      return toinsert\n",
       "    }\n",
       "\n",
       "    /* Handle when an output is cleared or removed */\n",
       "    events.on('clear_output.CodeCell', handleClearOutput);\n",
       "    events.on('delete.Cell', handleClearOutput);\n",
       "\n",
       "    /* Handle when a new output is added */\n",
       "    events.on('output_added.OutputArea', handleAddOutput);\n",
       "\n",
       "    /**\n",
       "     * Register the mime type and append_mime function with output_area\n",
       "     */\n",
       "    OutputArea.prototype.register_mime_type(EXEC_MIME_TYPE, append_mime, {\n",
       "      /* Is output safe? */\n",
       "      safe: true,\n",
       "      /* Index of renderer in `output_area.display_order` */\n",
       "      index: 0\n",
       "    });\n",
       "  }\n",
       "\n",
       "  // register the mime type if in Jupyter Notebook environment and previously unregistered\n",
       "  if (root.Jupyter !== undefined) {\n",
       "    const events = require('base/js/events');\n",
       "    const OutputArea = require('notebook/js/outputarea').OutputArea;\n",
       "\n",
       "    if (OutputArea.prototype.mime_types().indexOf(EXEC_MIME_TYPE) == -1) {\n",
       "      register_renderer(events, OutputArea);\n",
       "    }\n",
       "  }\n",
       "\n",
       "  \n",
       "  if (typeof (root._bokeh_timeout) === \"undefined\" || force === true) {\n",
       "    root._bokeh_timeout = Date.now() + 5000;\n",
       "    root._bokeh_failed_load = false;\n",
       "  }\n",
       "\n",
       "  const NB_LOAD_WARNING = {'data': {'text/html':\n",
       "     \"<div style='background-color: #fdd'>\\n\"+\n",
       "     \"<p>\\n\"+\n",
       "     \"BokehJS does not appear to have successfully loaded. If loading BokehJS from CDN, this \\n\"+\n",
       "     \"may be due to a slow or bad network connection. Possible fixes:\\n\"+\n",
       "     \"</p>\\n\"+\n",
       "     \"<ul>\\n\"+\n",
       "     \"<li>re-rerun `output_notebook()` to attempt to load from CDN again, or</li>\\n\"+\n",
       "     \"<li>use INLINE resources instead, as so:</li>\\n\"+\n",
       "     \"</ul>\\n\"+\n",
       "     \"<code>\\n\"+\n",
       "     \"from bokeh.resources import INLINE\\n\"+\n",
       "     \"output_notebook(resources=INLINE)\\n\"+\n",
       "     \"</code>\\n\"+\n",
       "     \"</div>\"}};\n",
       "\n",
       "  function display_loaded() {\n",
       "    const el = document.getElementById(\"1002\");\n",
       "    if (el != null) {\n",
       "      el.textContent = \"BokehJS is loading...\";\n",
       "    }\n",
       "    if (root.Bokeh !== undefined) {\n",
       "      if (el != null) {\n",
       "        el.textContent = \"BokehJS \" + root.Bokeh.version + \" successfully loaded.\";\n",
       "      }\n",
       "    } else if (Date.now() < root._bokeh_timeout) {\n",
       "      setTimeout(display_loaded, 100)\n",
       "    }\n",
       "  }\n",
       "\n",
       "\n",
       "  function run_callbacks() {\n",
       "    try {\n",
       "      root._bokeh_onload_callbacks.forEach(function(callback) {\n",
       "        if (callback != null)\n",
       "          callback();\n",
       "      });\n",
       "    } finally {\n",
       "      delete root._bokeh_onload_callbacks\n",
       "    }\n",
       "    console.debug(\"Bokeh: all callbacks have finished\");\n",
       "  }\n",
       "\n",
       "  function load_libs(css_urls, js_urls, callback) {\n",
       "    if (css_urls == null) css_urls = [];\n",
       "    if (js_urls == null) js_urls = [];\n",
       "\n",
       "    root._bokeh_onload_callbacks.push(callback);\n",
       "    if (root._bokeh_is_loading > 0) {\n",
       "      console.debug(\"Bokeh: BokehJS is being loaded, scheduling callback at\", now());\n",
       "      return null;\n",
       "    }\n",
       "    if (js_urls == null || js_urls.length === 0) {\n",
       "      run_callbacks();\n",
       "      return null;\n",
       "    }\n",
       "    console.debug(\"Bokeh: BokehJS not loaded, scheduling load and callback at\", now());\n",
       "    root._bokeh_is_loading = css_urls.length + js_urls.length;\n",
       "\n",
       "    function on_load() {\n",
       "      root._bokeh_is_loading--;\n",
       "      if (root._bokeh_is_loading === 0) {\n",
       "        console.debug(\"Bokeh: all BokehJS libraries/stylesheets loaded\");\n",
       "        run_callbacks()\n",
       "      }\n",
       "    }\n",
       "\n",
       "    function on_error(url) {\n",
       "      console.error(\"failed to load \" + url);\n",
       "    }\n",
       "\n",
       "    for (let i = 0; i < css_urls.length; i++) {\n",
       "      const url = css_urls[i];\n",
       "      const element = document.createElement(\"link\");\n",
       "      element.onload = on_load;\n",
       "      element.onerror = on_error.bind(null, url);\n",
       "      element.rel = \"stylesheet\";\n",
       "      element.type = \"text/css\";\n",
       "      element.href = url;\n",
       "      console.debug(\"Bokeh: injecting link tag for BokehJS stylesheet: \", url);\n",
       "      document.body.appendChild(element);\n",
       "    }\n",
       "\n",
       "    for (let i = 0; i < js_urls.length; i++) {\n",
       "      const url = js_urls[i];\n",
       "      const element = document.createElement('script');\n",
       "      element.onload = on_load;\n",
       "      element.onerror = on_error.bind(null, url);\n",
       "      element.async = false;\n",
       "      element.src = url;\n",
       "      console.debug(\"Bokeh: injecting script tag for BokehJS library: \", url);\n",
       "      document.head.appendChild(element);\n",
       "    }\n",
       "  };\n",
       "\n",
       "  function inject_raw_css(css) {\n",
       "    const element = document.createElement(\"style\");\n",
       "    element.appendChild(document.createTextNode(css));\n",
       "    document.body.appendChild(element);\n",
       "  }\n",
       "\n",
       "  \n",
       "  const js_urls = [\"https://cdn.bokeh.org/bokeh/release/bokeh-2.4.2.min.js\", \"https://cdn.bokeh.org/bokeh/release/bokeh-gl-2.4.2.min.js\", \"https://cdn.bokeh.org/bokeh/release/bokeh-widgets-2.4.2.min.js\", \"https://cdn.bokeh.org/bokeh/release/bokeh-tables-2.4.2.min.js\", \"https://cdn.bokeh.org/bokeh/release/bokeh-mathjax-2.4.2.min.js\"];\n",
       "  const css_urls = [];\n",
       "  \n",
       "\n",
       "  const inline_js = [\n",
       "    function(Bokeh) {\n",
       "      Bokeh.set_log_level(\"info\");\n",
       "    },\n",
       "    function(Bokeh) {\n",
       "    \n",
       "    \n",
       "    }\n",
       "  ];\n",
       "\n",
       "  function run_inline_js() {\n",
       "    \n",
       "    if (root.Bokeh !== undefined || force === true) {\n",
       "      \n",
       "    for (let i = 0; i < inline_js.length; i++) {\n",
       "      inline_js[i].call(root, root.Bokeh);\n",
       "    }\n",
       "    if (force === true) {\n",
       "        display_loaded();\n",
       "      }} else if (Date.now() < root._bokeh_timeout) {\n",
       "      setTimeout(run_inline_js, 100);\n",
       "    } else if (!root._bokeh_failed_load) {\n",
       "      console.log(\"Bokeh: BokehJS failed to load within specified timeout.\");\n",
       "      root._bokeh_failed_load = true;\n",
       "    } else if (force !== true) {\n",
       "      const cell = $(document.getElementById(\"1002\")).parents('.cell').data().cell;\n",
       "      cell.output_area.append_execute_result(NB_LOAD_WARNING)\n",
       "    }\n",
       "\n",
       "  }\n",
       "\n",
       "  if (root._bokeh_is_loading === 0) {\n",
       "    console.debug(\"Bokeh: BokehJS loaded, going straight to plotting\");\n",
       "    run_inline_js();\n",
       "  } else {\n",
       "    load_libs(css_urls, js_urls, function() {\n",
       "      console.debug(\"Bokeh: BokehJS plotting callback run at\", now());\n",
       "      run_inline_js();\n",
       "    });\n",
       "  }\n",
       "}(window));"
      ],
      "application/vnd.bokehjs_load.v0+json": "\n(function(root) {\n  function now() {\n    return new Date();\n  }\n\n  const force = true;\n\n  if (typeof root._bokeh_onload_callbacks === \"undefined\" || force === true) {\n    root._bokeh_onload_callbacks = [];\n    root._bokeh_is_loading = undefined;\n  }\n\n  \n\n  \n  if (typeof (root._bokeh_timeout) === \"undefined\" || force === true) {\n    root._bokeh_timeout = Date.now() + 5000;\n    root._bokeh_failed_load = false;\n  }\n\n  const NB_LOAD_WARNING = {'data': {'text/html':\n     \"<div style='background-color: #fdd'>\\n\"+\n     \"<p>\\n\"+\n     \"BokehJS does not appear to have successfully loaded. If loading BokehJS from CDN, this \\n\"+\n     \"may be due to a slow or bad network connection. Possible fixes:\\n\"+\n     \"</p>\\n\"+\n     \"<ul>\\n\"+\n     \"<li>re-rerun `output_notebook()` to attempt to load from CDN again, or</li>\\n\"+\n     \"<li>use INLINE resources instead, as so:</li>\\n\"+\n     \"</ul>\\n\"+\n     \"<code>\\n\"+\n     \"from bokeh.resources import INLINE\\n\"+\n     \"output_notebook(resources=INLINE)\\n\"+\n     \"</code>\\n\"+\n     \"</div>\"}};\n\n  function display_loaded() {\n    const el = document.getElementById(\"1002\");\n    if (el != null) {\n      el.textContent = \"BokehJS is loading...\";\n    }\n    if (root.Bokeh !== undefined) {\n      if (el != null) {\n        el.textContent = \"BokehJS \" + root.Bokeh.version + \" successfully loaded.\";\n      }\n    } else if (Date.now() < root._bokeh_timeout) {\n      setTimeout(display_loaded, 100)\n    }\n  }\n\n\n  function run_callbacks() {\n    try {\n      root._bokeh_onload_callbacks.forEach(function(callback) {\n        if (callback != null)\n          callback();\n      });\n    } finally {\n      delete root._bokeh_onload_callbacks\n    }\n    console.debug(\"Bokeh: all callbacks have finished\");\n  }\n\n  function load_libs(css_urls, js_urls, callback) {\n    if (css_urls == null) css_urls = [];\n    if (js_urls == null) js_urls = [];\n\n    root._bokeh_onload_callbacks.push(callback);\n    if (root._bokeh_is_loading > 0) {\n      console.debug(\"Bokeh: BokehJS is being loaded, scheduling callback at\", now());\n      return null;\n    }\n    if (js_urls == null || js_urls.length === 0) {\n      run_callbacks();\n      return null;\n    }\n    console.debug(\"Bokeh: BokehJS not loaded, scheduling load and callback at\", now());\n    root._bokeh_is_loading = css_urls.length + js_urls.length;\n\n    function on_load() {\n      root._bokeh_is_loading--;\n      if (root._bokeh_is_loading === 0) {\n        console.debug(\"Bokeh: all BokehJS libraries/stylesheets loaded\");\n        run_callbacks()\n      }\n    }\n\n    function on_error(url) {\n      console.error(\"failed to load \" + url);\n    }\n\n    for (let i = 0; i < css_urls.length; i++) {\n      const url = css_urls[i];\n      const element = document.createElement(\"link\");\n      element.onload = on_load;\n      element.onerror = on_error.bind(null, url);\n      element.rel = \"stylesheet\";\n      element.type = \"text/css\";\n      element.href = url;\n      console.debug(\"Bokeh: injecting link tag for BokehJS stylesheet: \", url);\n      document.body.appendChild(element);\n    }\n\n    for (let i = 0; i < js_urls.length; i++) {\n      const url = js_urls[i];\n      const element = document.createElement('script');\n      element.onload = on_load;\n      element.onerror = on_error.bind(null, url);\n      element.async = false;\n      element.src = url;\n      console.debug(\"Bokeh: injecting script tag for BokehJS library: \", url);\n      document.head.appendChild(element);\n    }\n  };\n\n  function inject_raw_css(css) {\n    const element = document.createElement(\"style\");\n    element.appendChild(document.createTextNode(css));\n    document.body.appendChild(element);\n  }\n\n  \n  const js_urls = [\"https://cdn.bokeh.org/bokeh/release/bokeh-2.4.2.min.js\", \"https://cdn.bokeh.org/bokeh/release/bokeh-gl-2.4.2.min.js\", \"https://cdn.bokeh.org/bokeh/release/bokeh-widgets-2.4.2.min.js\", \"https://cdn.bokeh.org/bokeh/release/bokeh-tables-2.4.2.min.js\", \"https://cdn.bokeh.org/bokeh/release/bokeh-mathjax-2.4.2.min.js\"];\n  const css_urls = [];\n  \n\n  const inline_js = [\n    function(Bokeh) {\n      Bokeh.set_log_level(\"info\");\n    },\n    function(Bokeh) {\n    \n    \n    }\n  ];\n\n  function run_inline_js() {\n    \n    if (root.Bokeh !== undefined || force === true) {\n      \n    for (let i = 0; i < inline_js.length; i++) {\n      inline_js[i].call(root, root.Bokeh);\n    }\n    if (force === true) {\n        display_loaded();\n      }} else if (Date.now() < root._bokeh_timeout) {\n      setTimeout(run_inline_js, 100);\n    } else if (!root._bokeh_failed_load) {\n      console.log(\"Bokeh: BokehJS failed to load within specified timeout.\");\n      root._bokeh_failed_load = true;\n    } else if (force !== true) {\n      const cell = $(document.getElementById(\"1002\")).parents('.cell').data().cell;\n      cell.output_area.append_execute_result(NB_LOAD_WARNING)\n    }\n\n  }\n\n  if (root._bokeh_is_loading === 0) {\n    console.debug(\"Bokeh: BokehJS loaded, going straight to plotting\");\n    run_inline_js();\n  } else {\n    load_libs(css_urls, js_urls, function() {\n      console.debug(\"Bokeh: BokehJS plotting callback run at\", now());\n      run_inline_js();\n    });\n  }\n}(window));"
     },
     "metadata": {},
     "output_type": "display_data"
    },
    {
     "data": {
      "text/html": [
       "\n",
       "\n",
       "\n",
       "\n",
       "\n",
       "\n",
       "  <div class=\"bk-root\" id=\"04b83169-1ca7-4dcc-b341-0c7929858896\" data-root-id=\"1178\"></div>\n"
      ]
     },
     "metadata": {},
     "output_type": "display_data"
    },
    {
     "data": {
      "application/javascript": [
       "(function(root) {\n",
       "  function embed_document(root) {\n",
       "    \n",
       "  const docs_json = {\"acfe6889-1a70-4173-bd5b-db6015e30607\":{\"defs\":[],\"roots\":{\"references\":[{\"attributes\":{\"children\":[{\"id\":\"1177\"},{\"id\":\"1175\"}],\"sizing_mode\":\"scale_both\"},\"id\":\"1178\",\"type\":\"Column\"},{\"attributes\":{\"fill_alpha\":0.3,\"fill_color\":\"#ffa600\",\"hatch_alpha\":{\"value\":0.3},\"hatch_color\":{\"value\":\"#ffa600\"},\"x\":{\"field\":\"x\"},\"y1\":{\"field\":\"y1\"},\"y2\":{\"field\":\"y2\"}},\"id\":\"1129\",\"type\":\"VArea\"},{\"attributes\":{},\"id\":\"1152\",\"type\":\"UnionRenderers\"},{\"attributes\":{},\"id\":\"1153\",\"type\":\"Selection\"},{\"attributes\":{},\"id\":\"1025\",\"type\":\"HelpTool\"},{\"attributes\":{\"line_alpha\":0.2,\"line_color\":\"#bc5090\",\"x\":{\"field\":\"x\"},\"y\":{\"field\":\"y\"}},\"id\":\"1125\",\"type\":\"Line\"},{\"attributes\":{\"end\":3.115599918311822e-08,\"start\":6.990672604644973e-10},\"id\":\"1121\",\"type\":\"Range1d\"},{\"attributes\":{\"data\":{\"x\":{\"__ndarray__\":\"Flbnnq8D4jwWVueerwPyPCABW26HBfs8Flbnnq8DAj2bK6GGm4QGPSABW26HBQs9ptYUVnOGDz0WVueerwMSPdlAxJIlRBQ9myuhhpuEFj1dFn56EcUYPSABW26HBRs95Os3Yv1FHT2m1hRWc4YfPbTg+KR04yA9Flbnnq8DIj13y9WY6iMjPdlAxJIlRCQ9ObayjGBkJT2bK6GGm4QmPf2gj4DWpCc9XRZ+ehHFKD2/i2x0TOUpPSABW26HBSs9gnZJaMIlLD3k6zdi/UUtPURhJlw4Zi49ptYUVnOGLz0EpgEoV1MwPbTg+KR04zA9ZRvwIZJzMT0WVueerwMyPcaQ3hvNkzI9d8vVmOojMz0oBs0VCLQzPdlAxJIlRDQ9iXu7D0PUND05trKMYGQ1PerwqQl+9DU9myuhhpuENj1MZpgDuRQ3Pf2gj4DWpDc9rduG/fM0OD1dFn56EcU4PQ5RdfcuVTk9v4tsdEzlOT1wxmPxaXU6PSABW26HBTs90TtS66SVOz2CdklowiU8PTOxQOXftTw95Os3Yv1FPT2TJi/fGtY9PURhJlw4Zj499Zsd2VX2Pj2m1hRWc4Y/PasIhmlIC0A9BKYBKFdTQD1cQ33mZZtAPbTg+KR040A9DH50Y4MrQT1lG/AhknNBPb24a+Cgu0E9Flbnnq8DQj1u82JdvktCPcaQ3hvNk0I9Hy5a2tvbQj13y9WY6iNDPdBoUVf5a0M9KAbNFQi0Qz2Ao0jUFvxDPdlAxJIlREQ9MN4/UTSMRD2Je7sPQ9REPeEYN85RHEU9ObayjGBkRT2SUy5Lb6xFPerwqQl+9EU9Q44lyIw8Rj2bK6GGm4RGPfPIHEWqzEY9TGaYA7kURz2kAxTCx1xHPf2gj4DWpEc9VT4LP+XsRz2t24b98zRIPQZ5ArwCfUg9XRZ+ehHFSD22s/k4IA1JPQ5RdfcuVUk9Zu7wtT2dST2/i2x0TOVJPRcp6DJbLUo9cMZj8Wl1Sj3IY9+veL1KPSABW26HBUs9eZ7WLJZNSz3RO1LrpJVLPSrZzamz3Us9\",\"dtype\":\"float64\",\"order\":\"little\",\"shape\":[99]},\"y\":{\"__ndarray__\":\"+qYQmzcEFD45qSwDifgjPtakLw8F2S0+6uzl8e7MMz7m5tB1Dpk4PlvHUFHQTD0+syAOAUryQD76WWn2lC5DPlGrnkToWUU+b30epRdzRz7ziO4nKHlJPt6qnNlMa0s+ozxBauNITT4t83ThcBFPPgJ2fzRPYlA+LIt5JhsxUT6RMbmoEPVRPrrI0C0yrlI+EPERJI9cUz6cFevkQgBUPmZdkaJzmVQ+/aYHWFEoVT41u+PAFK1VPmMMelv+J1Y+XepSdlWZVj7Mzk9KZwFXPr+jxiOGYFc+tX20mgi3Vz7XJLrWSAVYPluBSdyjS1g+8+S35HiKWD4BbODEKMJYPlyhJ2MV81g+rkg7OaEdWT427HrbLkJZPojm9YAgYVk+CeyBitd6WT4AuiYKtI9ZPm5wvEwUoFk+gM6ZaVSsWT4VOrPfzbRZPsBCZUfXuVk+hvDNGsS7WT7AuU+R5LpZPkZld4iFt1k+YIcVcvCxWT47WrI9a6pZPpbZ3Dg4oVk+aE5K7ZWWWT7esDsKv4pZPld4vGLqfVk+JTOqAEtwWT4pUE5DEGJZPu+l7/xlU1k+Y43VhnREWT4NCeLJYDVZPlYqkD1MJlk+O/wu4VQXWT77ofE2lQhZPkSvBUok+lg+2mfRxRXsWD6SBVEfet5YPpWiiMpe0Vg+rp/McM7EWD5aLB0f0bhYPjjAbWpsrVg+qBYAjKOiWD4uw6V7d5hYPquS6hHnjlg+BAULO++FWD77eCI8i31YPtb7HwS1dVg+eJnvfGVuWD72MMLQlGdYPgPKyps6YVg+6IGrCE5bWD7tA5vexVVYPiQmu5SYUFg+jrnwe7xLWD7aXzH6J0dYPoQpLcHRQlg+iD147bA+WD54RAsNvTpYPg5TIBzuNlg+VUwphDwzWD4oxRgSoS9YPsqYKNEULFg+6smj35AoWD7G52B2DiVYPsZm2TCHIVg+FmFJZ/UdWD7W1DJsVBpYPjHIqKCgFlg+9lFkctcSWD7y0GNg9w5YPufZmfz/Clg+fwmJsfEGWD6xd/Y8zQJYPjo1CDKT/lc+\",\"dtype\":\"float64\",\"order\":\"little\",\"shape\":[99]}},\"selected\":{\"id\":\"1170\"},\"selection_policy\":{\"id\":\"1169\"}},\"id\":\"1122\",\"type\":\"ColumnDataSource\"},{\"attributes\":{},\"id\":\"1006\",\"type\":\"DataRange1d\"},{\"attributes\":{\"source\":{\"id\":\"1128\"}},\"id\":\"1133\",\"type\":\"CDSView\"},{\"attributes\":{},\"id\":\"1020\",\"type\":\"PanTool\"},{\"attributes\":{\"source\":{\"id\":\"1122\"}},\"id\":\"1127\",\"type\":\"CDSView\"},{\"attributes\":{\"line_alpha\":0.1,\"line_color\":\"#bc5090\",\"x\":{\"field\":\"x\"},\"y\":{\"field\":\"y\"}},\"id\":\"1124\",\"type\":\"Line\"},{\"attributes\":{\"tools\":[{\"id\":\"1020\"},{\"id\":\"1021\"},{\"id\":\"1022\"},{\"id\":\"1023\"},{\"id\":\"1024\"},{\"id\":\"1025\"},{\"id\":\"1068\"}]},\"id\":\"1027\",\"type\":\"Toolbar\"},{\"attributes\":{\"line_color\":\"#bc5090\",\"x\":{\"field\":\"x\"},\"y\":{\"field\":\"y\"}},\"id\":\"1123\",\"type\":\"Line\"},{\"attributes\":{\"axis_label\":\"$$\\\\text{Diffusion Coefficient} / \\\\text{Siemens}/cm$$\",\"coordinates\":null,\"formatter\":{\"id\":\"1162\"},\"group\":null,\"major_label_policy\":{\"id\":\"1163\"},\"ticker\":{\"id\":\"1161\"},\"y_range_name\":\"Cond_range\"},\"id\":\"1134\",\"type\":\"LinearAxis\"},{\"attributes\":{},\"id\":\"1004\",\"type\":\"DataRange1d\"},{\"attributes\":{},\"id\":\"1008\",\"type\":\"LinearScale\"},{\"attributes\":{},\"id\":\"1021\",\"type\":\"WheelZoomTool\"},{\"attributes\":{\"toolbar\":{\"id\":\"1176\"},\"toolbar_location\":\"above\"},\"id\":\"1177\",\"type\":\"ToolbarBox\"},{\"attributes\":{\"coordinates\":null,\"data_source\":{\"id\":\"1128\"},\"glyph\":{\"id\":\"1129\"},\"group\":null,\"hover_glyph\":null,\"muted_glyph\":{\"id\":\"1131\"},\"nonselection_glyph\":{\"id\":\"1130\"},\"view\":{\"id\":\"1133\"},\"y_range_name\":\"Cond_range\"},\"id\":\"1132\",\"type\":\"GlyphRenderer\"},{\"attributes\":{\"data\":{\"x\":{\"__ndarray__\":\"Flbnnq8D4jwWVueerwPyPCABW26HBfs8Flbnnq8DAj2bK6GGm4QGPSABW26HBQs9ptYUVnOGDz0WVueerwMSPdlAxJIlRBQ9myuhhpuEFj1dFn56EcUYPSABW26HBRs95Os3Yv1FHT2m1hRWc4YfPbTg+KR04yA9Flbnnq8DIj13y9WY6iMjPdlAxJIlRCQ9ObayjGBkJT2bK6GGm4QmPf2gj4DWpCc9XRZ+ehHFKD2/i2x0TOUpPSABW26HBSs9gnZJaMIlLD3k6zdi/UUtPURhJlw4Zi49ptYUVnOGLz0EpgEoV1MwPbTg+KR04zA9ZRvwIZJzMT0WVueerwMyPcaQ3hvNkzI9d8vVmOojMz0oBs0VCLQzPdlAxJIlRDQ9iXu7D0PUND05trKMYGQ1PerwqQl+9DU9myuhhpuENj1MZpgDuRQ3Pf2gj4DWpDc9rduG/fM0OD1dFn56EcU4PQ5RdfcuVTk9v4tsdEzlOT1wxmPxaXU6PSABW26HBTs90TtS66SVOz2CdklowiU8PTOxQOXftTw95Os3Yv1FPT2TJi/fGtY9PURhJlw4Zj499Zsd2VX2Pj2m1hRWc4Y/PasIhmlIC0A9BKYBKFdTQD1cQ33mZZtAPbTg+KR040A9DH50Y4MrQT1lG/AhknNBPb24a+Cgu0E9Flbnnq8DQj1u82JdvktCPcaQ3hvNk0I9Hy5a2tvbQj13y9WY6iNDPdBoUVf5a0M9KAbNFQi0Qz2Ao0jUFvxDPdlAxJIlREQ9MN4/UTSMRD2Je7sPQ9REPeEYN85RHEU9ObayjGBkRT2SUy5Lb6xFPerwqQl+9EU9Q44lyIw8Rj2bK6GGm4RGPfPIHEWqzEY9TGaYA7kURz2kAxTCx1xHPf2gj4DWpEc9VT4LP+XsRz2t24b98zRIPQZ5ArwCfUg9XRZ+ehHFSD22s/k4IA1JPQ5RdfcuVUk9Zu7wtT2dST2/i2x0TOVJPRcp6DJbLUo9cMZj8Wl1Sj3IY9+veL1KPSABW26HBUs9eZ7WLJZNSz3RO1LrpJVLPSrZzamz3Us9\",\"dtype\":\"float64\",\"order\":\"little\",\"shape\":[99]},\"y1\":{\"__ndarray__\":\"pmkUrdSZET5B7FiH648hPh3QR3O0QCo+3yykea5rMT4qypGcQaY1PgzUohewzDk+U4JdTOnbPT4xlLnPmOhAPrfYQgAR1UI+82nizlKyRD46BTY5e39GPvnYXaHMO0g+NSADrazmST6zZocTon9LPrFCFmRSBk0+J6Dz1396Tj6pRylIB9xPPgZHMiVvlVA+Icd5sYgzUT5AY2gcYchRPm0i3+MSVFI+q30tTMHWUj4bHFyDl1BTPl5xWc3HwVM+kbDiuIoqVD5UX3hdHotUPvLt1qPF41Q+6l5nmcc0VT55E8HMbn5VPiS8jbEIwVU+2HzvDOX8VT7QTPlsVTJWPgsI66usYVY+FOrEfD6LVj74DBL9Xq9WPl6DikhizlY+wXG8DZzoVj7CL+EkX/5WPlZjcCr9D1c+7KcUIMYdVz4CqYYYCChXPqnfdfIOL1c+aPorIyQzVz4NBUeOjjRXPhTHqGaSM1c+7lzEE3EwVz76NdwVaStXPglQ2Oa1JFc+BpfG248cVz6NR80OLBNXPoXwIle8CFc+HF/9Tm/9Vj4YD/1hcPFWPrHJi9zn5FY+0zf59vrXVj7PgAHby8pWPqSbsKR5vVY+Mw0FYSCwVj52RhoP2aJWPs4vl6m5lVY+3lMlPNWIVj4krHQFPHxWPlnuGKL7b1Y+B8JqOR9kVj6Or8emr1hWPhuzLZ2zTVY+VbrDxS9DVj6fnXbcJjlWPp4y5dCZL1Y+nteE8YcmVj62Bm4i7x1WPsYCRBzMFVY+BWkurBoOVj6C3Rbt1QZWPjk7l3T4/1U+KmdvcXz5VT5uSrW+W/NVPgQxnvaP7VU+18pSjxLoVT6zMjMA3eJVPuqybeTo3VU+C7k0ETDZVT7x6RqfrNRVPtquXu5Y0FU+69NRqy/MVT4U7kbLK8hVPhFWzXZIxFU+WQMu7oDAVT4I1MKJ0LxVPks+pt8yuVU+AUGF9aO1VT4YyUNkILJVPvU0xWWlrlU+MRAs1zCrVT7cAK8+wadVPqErFM1VpFU+eKR6OO6gVT5oFONoip1VPpARFycqmlU+\",\"dtype\":\"float64\",\"order\":\"little\",\"shape\":[99]},\"y2\":{\"__ndarray__\":\"TuQMiZpuFj4xZgB/JmEmPsi8i9WquDA+9awnai8uNj6iAxBP24s7PlVdf0V4ZkA+PIDtW5/2Qj7DHxkdkXRFPut9+oi/3kc+65Bae9wzSj6sDKcW1XJMPsN82xHNmk4+iay/E41VUD7UP7HXn1FRPqzK8zZ1QVI+REb5YPYkUz5Ov12tHfxTPm5Kbzb1xlQ+/xqqlpWFVT74x22tJDhWPl+YQ2HU3lY+T9DhY+F5Vz5PWmv+kQlYPminmuk0jlg+KSTDMyAIWT5EPic3sHdZPoxZtqNG3Vk+gJwBnEk5Wj41NrPgIoxaPpJGBQc/1lo+Dk2AvAwYWz4yi8cc/FFbPq06ZBp+hFs+SKex9QOwWz50y+O5/tRbPrJJYbne81s+UWZHBxMNXD4+RGzvCCFcPoZ9CG8rMFw+FPUes+I6XD4oy9+mk0FcPtelVJyfRFw+pOZvEmREXD5zbliUOkFcPngDRqp4O1w+0rFm0G8zXD58fohlbSlcPiNj4Yq6HVw+ygXO/psQXD4vGqoFUgJcPikAVm4Y81s+LgdXsibjWz46kZ8ksNJbPi2CUx3kwVs+8+KxFu6wWz5LkcK49Z9bPgi5b9Yej1s+Q+tYYYl+Wz6A/cheUW5bProudOqOXls+1nt9T1ZPWz4AXy05uEBbPtFW+PLBMls+VX0uqH0lWz4mqXKX8hhbPlXNrTclDVs++3I8UhcCWz696NQayPdaPrjy71I07lo+ajKRhFblWj5A69ZVJ91aPub0++ud1Vo+68mwTbDOWj5qhG20U8haPs1Y/sJ8wlo+ppznnx+9Wj5svYD+L7haPkQb2DKhs1o+RaiOaGavWj4BjS/0cqtaPh6g7J26p1o+BcK7yTGkWj7/nvt6zaBaPkL34UmDnVo+v8QAXUmaWj48nOpYFpdaPoPbgyvhk1o+e5AZ0aCQWj6E+/5iTI1aPkGPDILbiVo+K4EN2UaGWj6U4CF0iIJaPm1bjNubflo+u5OcDX56Wj4IoRiCLXZaPi2IHyyqcVo+hm6XKvVsWj762gkREGhaPuRY+Tz8Ylo+\",\"dtype\":\"float64\",\"order\":\"little\",\"shape\":[99]}},\"selected\":{\"id\":\"1172\"},\"selection_policy\":{\"id\":\"1171\"}},\"id\":\"1128\",\"type\":\"ColumnDataSource\"},{\"attributes\":{},\"id\":\"1023\",\"type\":\"SaveTool\"},{\"attributes\":{\"fill_alpha\":0.1,\"fill_color\":\"#ffa600\",\"hatch_alpha\":{\"value\":0.1},\"hatch_color\":{\"value\":\"#ffa600\"},\"x\":{\"field\":\"x\"},\"y1\":{\"field\":\"y1\"},\"y2\":{\"field\":\"y2\"}},\"id\":\"1130\",\"type\":\"VArea\"},{\"attributes\":{\"fill_alpha\":0.2,\"fill_color\":\"#ffa600\",\"hatch_alpha\":{\"value\":0.2},\"hatch_color\":{\"value\":\"#ffa600\"},\"x\":{\"field\":\"x\"},\"y1\":{\"field\":\"y1\"},\"y2\":{\"field\":\"y2\"}},\"id\":\"1131\",\"type\":\"VArea\"},{\"attributes\":{\"callback\":null},\"id\":\"1135\",\"type\":\"HoverTool\"},{\"attributes\":{\"line_alpha\":0.2,\"line_color\":\"#003f5c\",\"x\":{\"field\":\"x\"},\"y\":{\"field\":\"y\"}},\"id\":\"1038\",\"type\":\"Line\"},{\"attributes\":{\"children\":[[{\"id\":\"1003\"},0,0],[{\"id\":\"1070\"},0,1]]},\"id\":\"1175\",\"type\":\"GridBox\"},{\"attributes\":{},\"id\":\"1024\",\"type\":\"ResetTool\"},{\"attributes\":{\"toolbars\":[{\"id\":\"1027\"},{\"id\":\"1094\"}],\"tools\":[{\"id\":\"1020\"},{\"id\":\"1021\"},{\"id\":\"1022\"},{\"id\":\"1023\"},{\"id\":\"1024\"},{\"id\":\"1025\"},{\"id\":\"1068\"},{\"id\":\"1087\"},{\"id\":\"1088\"},{\"id\":\"1089\"},{\"id\":\"1090\"},{\"id\":\"1091\"},{\"id\":\"1092\"},{\"id\":\"1135\"}]},\"id\":\"1176\",\"type\":\"ProxyToolbar\"},{\"attributes\":{\"overlay\":{\"id\":\"1026\"}},\"id\":\"1022\",\"type\":\"BoxZoomTool\"},{\"attributes\":{},\"id\":\"1142\",\"type\":\"BasicTicker\"},{\"attributes\":{},\"id\":\"1143\",\"type\":\"BasicTickFormatter\"},{\"attributes\":{},\"id\":\"1144\",\"type\":\"AllLabels\"},{\"attributes\":{},\"id\":\"1162\",\"type\":\"BasicTickFormatter\"},{\"attributes\":{\"line_alpha\":0.1,\"line_color\":\"#003f5c\",\"x\":{\"field\":\"x\"},\"y\":{\"field\":\"y\"}},\"id\":\"1037\",\"type\":\"Line\"},{\"attributes\":{},\"id\":\"1161\",\"type\":\"BasicTicker\"},{\"attributes\":{},\"id\":\"1163\",\"type\":\"AllLabels\"},{\"attributes\":{\"bottom_units\":\"screen\",\"coordinates\":null,\"fill_alpha\":0.5,\"fill_color\":\"lightgrey\",\"group\":null,\"left_units\":\"screen\",\"level\":\"overlay\",\"line_alpha\":1.0,\"line_color\":\"black\",\"line_dash\":[4,4],\"line_width\":2,\"right_units\":\"screen\",\"syncable\":false,\"top_units\":\"screen\"},\"id\":\"1026\",\"type\":\"BoxAnnotation\"},{\"attributes\":{},\"id\":\"1150\",\"type\":\"UnionRenderers\"},{\"attributes\":{},\"id\":\"1151\",\"type\":\"Selection\"},{\"attributes\":{},\"id\":\"1169\",\"type\":\"UnionRenderers\"},{\"attributes\":{\"coordinates\":null,\"dimension\":\"height\",\"group\":null,\"line_dash\":[6],\"location\":1.9800000000000001e-13},\"id\":\"1034\",\"type\":\"Span\"},{\"attributes\":{},\"id\":\"1170\",\"type\":\"Selection\"},{\"attributes\":{\"line_color\":\"#003f5c\",\"x\":{\"field\":\"x\"},\"y\":{\"field\":\"y\"}},\"id\":\"1036\",\"type\":\"Line\"},{\"attributes\":{\"coordinates\":null,\"data_source\":{\"id\":\"1102\"},\"glyph\":{\"id\":\"1103\"},\"group\":null,\"hover_glyph\":null,\"muted_glyph\":{\"id\":\"1105\"},\"nonselection_glyph\":{\"id\":\"1104\"},\"view\":{\"id\":\"1107\"}},\"id\":\"1106\",\"type\":\"GlyphRenderer\"},{\"attributes\":{},\"id\":\"1071\",\"type\":\"DataRange1d\"},{\"attributes\":{\"coordinates\":null,\"dimension\":\"height\",\"group\":null,\"line_dash\":[6],\"location\":1.9800000000000001e-13},\"id\":\"1101\",\"type\":\"Span\"},{\"attributes\":{\"axis_label\":\"$$\\\\text{Diffusion Coefficient} / \\\\text{Siemens}/cm$$\",\"coordinates\":null,\"formatter\":{\"id\":\"1143\"},\"group\":null,\"major_label_policy\":{\"id\":\"1144\"},\"ticker\":{\"id\":\"1142\"},\"y_range_name\":\"Cond_range\"},\"id\":\"1067\",\"type\":\"LinearAxis\"},{\"attributes\":{\"coordinates\":null,\"data_source\":{\"id\":\"1055\"},\"glyph\":{\"id\":\"1056\"},\"group\":null,\"hover_glyph\":null,\"muted_glyph\":{\"id\":\"1058\"},\"nonselection_glyph\":{\"id\":\"1057\"},\"view\":{\"id\":\"1060\"},\"y_range_name\":\"Cond_range\"},\"id\":\"1059\",\"type\":\"GlyphRenderer\"},{\"attributes\":{},\"id\":\"1111\",\"type\":\"BasicTickFormatter\"},{\"attributes\":{},\"id\":\"1171\",\"type\":\"UnionRenderers\"},{\"attributes\":{\"fill_alpha\":0.1,\"fill_color\":\"#ffa600\",\"hatch_alpha\":{\"value\":0.1},\"hatch_color\":{\"value\":\"#ffa600\"},\"x\":{\"field\":\"x\"},\"y1\":{\"field\":\"y1\"},\"y2\":{\"field\":\"y2\"}},\"id\":\"1063\",\"type\":\"VArea\"},{\"attributes\":{},\"id\":\"1172\",\"type\":\"Selection\"},{\"attributes\":{\"line_color\":\"#003f5c\",\"x\":{\"field\":\"x\"},\"y\":{\"field\":\"y\"}},\"id\":\"1103\",\"type\":\"Line\"},{\"attributes\":{\"source\":{\"id\":\"1055\"}},\"id\":\"1060\",\"type\":\"CDSView\"},{\"attributes\":{},\"id\":\"1112\",\"type\":\"AllLabels\"},{\"attributes\":{\"coordinates\":null,\"group\":null},\"id\":\"1108\",\"type\":\"Title\"},{\"attributes\":{\"callback\":null},\"id\":\"1068\",\"type\":\"HoverTool\"},{\"attributes\":{\"line_alpha\":0.2,\"line_color\":\"#003f5c\",\"x\":{\"field\":\"x\"},\"y\":{\"field\":\"y\"}},\"id\":\"1105\",\"type\":\"Line\"},{\"attributes\":{\"coordinates\":null,\"group\":null,\"items\":[{\"id\":\"1120\"}]},\"id\":\"1119\",\"type\":\"Legend\"},{\"attributes\":{},\"id\":\"1075\",\"type\":\"LinearScale\"},{\"attributes\":{\"source\":{\"id\":\"1035\"}},\"id\":\"1040\",\"type\":\"CDSView\"},{\"attributes\":{\"label\":{\"value\":\"Cl:  2.235E-08 +-  2.228E-09\"},\"renderers\":[{\"id\":\"1106\"}]},\"id\":\"1120\",\"type\":\"LegendItem\"},{\"attributes\":{\"axis_label\":\"$$\\\\text{Time} / s$$\",\"coordinates\":null,\"formatter\":{\"id\":\"1047\"},\"group\":null,\"major_label_policy\":{\"id\":\"1048\"},\"ticker\":{\"id\":\"1013\"}},\"id\":\"1012\",\"type\":\"LinearAxis\"},{\"attributes\":{\"overlay\":{\"id\":\"1093\"}},\"id\":\"1089\",\"type\":\"BoxZoomTool\"},{\"attributes\":{},\"id\":\"1073\",\"type\":\"DataRange1d\"},{\"attributes\":{},\"id\":\"1092\",\"type\":\"HelpTool\"},{\"attributes\":{\"line_alpha\":0.1,\"line_color\":\"#bc5090\",\"x\":{\"field\":\"x\"},\"y\":{\"field\":\"y\"}},\"id\":\"1057\",\"type\":\"Line\"},{\"attributes\":{},\"id\":\"1090\",\"type\":\"SaveTool\"},{\"attributes\":{\"axis\":{\"id\":\"1083\"},\"coordinates\":null,\"dimension\":1,\"group\":null,\"ticker\":null},\"id\":\"1086\",\"type\":\"Grid\"},{\"attributes\":{\"axis\":{\"id\":\"1016\"},\"coordinates\":null,\"dimension\":1,\"group\":null,\"ticker\":null},\"id\":\"1019\",\"type\":\"Grid\"},{\"attributes\":{\"label\":{\"value\":\"Na:  3.079E-08 +-  4.206E-09\"},\"renderers\":[{\"id\":\"1039\"}]},\"id\":\"1053\",\"type\":\"LegendItem\"},{\"attributes\":{},\"id\":\"1088\",\"type\":\"WheelZoomTool\"},{\"attributes\":{},\"id\":\"1087\",\"type\":\"PanTool\"},{\"attributes\":{\"data\":{\"x\":{\"__ndarray__\":\"AAAAAAAAAAAWVueerwPiPBZW556vA/I8IAFbbocF+zwWVueerwMCPZsroYabhAY9IAFbbocFCz2m1hRWc4YPPRZW556vAxI92UDEkiVEFD2bK6GGm4QWPV0WfnoRxRg9IAFbbocFGz3k6zdi/UUdPabWFFZzhh89tOD4pHTjID0WVueerwMiPXfL1ZjqIyM92UDEkiVEJD05trKMYGQlPZsroYabhCY9/aCPgNakJz1dFn56EcUoPb+LbHRM5Sk9IAFbbocFKz2CdklowiUsPeTrN2L9RS09RGEmXDhmLj2m1hRWc4YvPQSmAShXUzA9tOD4pHTjMD1lG/AhknMxPRZW556vAzI9xpDeG82TMj13y9WY6iMzPSgGzRUItDM92UDEkiVEND2Je7sPQ9Q0PTm2soxgZDU96vCpCX70NT2bK6GGm4Q2PUxmmAO5FDc9/aCPgNakNz2t24b98zQ4PV0WfnoRxTg9DlF19y5VOT2/i2x0TOU5PXDGY/FpdTo9IAFbbocFOz3RO1LrpJU7PYJ2SWjCJTw9M7FA5d+1PD3k6zdi/UU9PZMmL98a1j09RGEmXDhmPj31mx3ZVfY+PabWFFZzhj89qwiGaUgLQD0EpgEoV1NAPVxDfeZlm0A9tOD4pHTjQD0MfnRjgytBPWUb8CGSc0E9vbhr4KC7QT0WVueerwNCPW7zYl2+S0I9xpDeG82TQj0fLlra29tCPXfL1ZjqI0M90GhRV/lrQz0oBs0VCLRDPYCjSNQW/EM92UDEkiVERD0w3j9RNIxEPYl7uw9D1EQ94Rg3zlEcRT05trKMYGRFPZJTLktvrEU96vCpCX70RT1DjiXIjDxGPZsroYabhEY988gcRarMRj1MZpgDuRRHPaQDFMLHXEc9/aCPgNakRz1VPgs/5exHPa3bhv3zNEg9BnkCvAJ9SD1dFn56EcVIPbaz+TggDUk9DlF19y5VST1m7vC1PZ1JPb+LbHRM5Uk9FynoMlstSj1wxmPxaXVKPchj3694vUo9IAFbbocFSz15ntYslk1LPdE7UuuklUs9KtnNqbPdSz0=\",\"dtype\":\"float64\",\"order\":\"little\",\"shape\":[100]},\"y\":{\"__ndarray__\":\"ZctMWFpiwUFHhf2WZFTBQbsq6MrtLsFB5I2g4g/zwEGumm15YqLAQXCJbAnOPsBB22zNOcmUv0HNaoD5io6+QZ6QeksUb71BSVh/oXM6vEHMjvzxg/S6QSSZyPnkoLlBrcETefdCuEEPqNxn2t22QfmCGllodLVB6WLrKTcJtEG8YEs9nJ6yQbGFx7izNrFBSKf9Ns2mr0HOZX/D3OysQTRWNnmvQqpBZ7bapgqrp0HJsr5jZCilQRL/dQ3nvKJBq12fznNqoEFt1WLeSWWcQawCr0OgLZhB/aiLnREwlEGOj8XnRG6QQfetY3nN0olBmB6VCGBEg0G/eskStWN6QZ8ctxwtbG5BS7AhEyz4U0EYlDQWTB5RwS9U3t8CPmnBmDqUaW4NdMGy1ket9Zh6wSn4LSpcJIDBcyTxNXKSgsFJActASpuEwVsZ46vJQ4bB/PC/VhCRh8HBRKClZIiIwXznY00lL4nBxhoqprmKicGQA4KrhKCJwQcW6W7kdYnBc8w4jzsQicFQU3Sn+HSIwUh8kyqUqYfB1uEr14OzhsFonj/rKJiFwfY+U+vBXITBkhV9/2IGg8HYoIyp8JmBweAEj7gYHIDBmbt3tZUifcE6EQx2aPt5wR1fTml/ynbB1WuaXTKXc8H83taGY2hwwTsXBRYPiWrBclLlxV1jZMH70s0dP9ZcwbYSjEMzVlHBz4EiYBVrOcHjTy9X8SUwQdu1WTvri0tBLy9+ACHMVkGNMrJsbg9fQYfTohKIQmNBXAkRsACSZkHZPKKFqnJpQVFG5nc/4mtBii6ZFaLfbUE5Twgzs2pvQTCHbFkkQnBBdjCNu0KXcEEpVp9uqbZwQcav7aAyo3BBzKSNn2FgcEGnqqFaU+RvQREuZ/CGuW5B8/PaWrxIbUGZZmggaplrQdKmA+K6sWlBcrIbseiWZ0GBO8Y8Bk5lQaAsU8HP3GJBmhpFOSRKYEGRxDdR5jtbQQ2s1xwpwlVBLk+g4Vw6UEGJcjeQNXBFQSxqaJZQMzVBoDERHVu6t0ChJ9i9CU40wc/IyV3580PBGKvMM7xUTcE=\",\"dtype\":\"float64\",\"order\":\"little\",\"shape\":[100]}},\"selected\":{\"id\":\"1050\"},\"selection_policy\":{\"id\":\"1049\"}},\"id\":\"1035\",\"type\":\"ColumnDataSource\"},{\"attributes\":{\"axis_label\":\"$$\\\\text{VACF} / m^{2}/s^{2}$$\",\"coordinates\":null,\"formatter\":{\"id\":\"1111\"},\"group\":null,\"major_label_policy\":{\"id\":\"1112\"},\"ticker\":{\"id\":\"1084\"}},\"id\":\"1083\",\"type\":\"LinearAxis\"},{\"attributes\":{},\"id\":\"1048\",\"type\":\"AllLabels\"},{\"attributes\":{\"end\":4.340451997535905e-08,\"start\":1.1648035505805872e-09},\"id\":\"1054\",\"type\":\"Range1d\"},{\"attributes\":{\"coordinates\":null,\"data_source\":{\"id\":\"1035\"},\"glyph\":{\"id\":\"1036\"},\"group\":null,\"hover_glyph\":null,\"muted_glyph\":{\"id\":\"1038\"},\"nonselection_glyph\":{\"id\":\"1037\"},\"view\":{\"id\":\"1040\"}},\"id\":\"1039\",\"type\":\"GlyphRenderer\"},{\"attributes\":{\"source\":{\"id\":\"1061\"}},\"id\":\"1066\",\"type\":\"CDSView\"},{\"attributes\":{\"below\":[{\"id\":\"1012\"}],\"center\":[{\"id\":\"1015\"},{\"id\":\"1019\"},{\"id\":\"1052\"},{\"id\":\"1034\"}],\"extra_y_ranges\":{\"Cond_range\":{\"id\":\"1054\"}},\"left\":[{\"id\":\"1016\"}],\"renderers\":[{\"id\":\"1039\"},{\"id\":\"1059\"},{\"id\":\"1065\"}],\"right\":[{\"id\":\"1067\"}],\"sizing_mode\":\"scale_both\",\"title\":{\"id\":\"1041\"},\"toolbar\":{\"id\":\"1027\"},\"toolbar_location\":null,\"x_range\":{\"id\":\"1004\"},\"x_scale\":{\"id\":\"1008\"},\"y_range\":{\"id\":\"1006\"},\"y_scale\":{\"id\":\"1010\"}},\"id\":\"1003\",\"subtype\":\"Figure\",\"type\":\"Plot\"},{\"attributes\":{\"bottom_units\":\"screen\",\"coordinates\":null,\"fill_alpha\":0.5,\"fill_color\":\"lightgrey\",\"group\":null,\"left_units\":\"screen\",\"level\":\"overlay\",\"line_alpha\":1.0,\"line_color\":\"black\",\"line_dash\":[4,4],\"line_width\":2,\"right_units\":\"screen\",\"syncable\":false,\"top_units\":\"screen\"},\"id\":\"1093\",\"type\":\"BoxAnnotation\"},{\"attributes\":{\"coordinates\":null,\"data_source\":{\"id\":\"1122\"},\"glyph\":{\"id\":\"1123\"},\"group\":null,\"hover_glyph\":null,\"muted_glyph\":{\"id\":\"1125\"},\"nonselection_glyph\":{\"id\":\"1124\"},\"view\":{\"id\":\"1127\"},\"y_range_name\":\"Cond_range\"},\"id\":\"1126\",\"type\":\"GlyphRenderer\"},{\"attributes\":{},\"id\":\"1117\",\"type\":\"Selection\"},{\"attributes\":{\"axis\":{\"id\":\"1012\"},\"coordinates\":null,\"group\":null,\"ticker\":null},\"id\":\"1015\",\"type\":\"Grid\"},{\"attributes\":{\"coordinates\":null,\"group\":null},\"id\":\"1041\",\"type\":\"Title\"},{\"attributes\":{\"data\":{\"x\":{\"__ndarray__\":\"AAAAAAAAAAAWVueerwPiPBZW556vA/I8IAFbbocF+zwWVueerwMCPZsroYabhAY9IAFbbocFCz2m1hRWc4YPPRZW556vAxI92UDEkiVEFD2bK6GGm4QWPV0WfnoRxRg9IAFbbocFGz3k6zdi/UUdPabWFFZzhh89tOD4pHTjID0WVueerwMiPXfL1ZjqIyM92UDEkiVEJD05trKMYGQlPZsroYabhCY9/aCPgNakJz1dFn56EcUoPb+LbHRM5Sk9IAFbbocFKz2CdklowiUsPeTrN2L9RS09RGEmXDhmLj2m1hRWc4YvPQSmAShXUzA9tOD4pHTjMD1lG/AhknMxPRZW556vAzI9xpDeG82TMj13y9WY6iMzPSgGzRUItDM92UDEkiVEND2Je7sPQ9Q0PTm2soxgZDU96vCpCX70NT2bK6GGm4Q2PUxmmAO5FDc9/aCPgNakNz2t24b98zQ4PV0WfnoRxTg9DlF19y5VOT2/i2x0TOU5PXDGY/FpdTo9IAFbbocFOz3RO1LrpJU7PYJ2SWjCJTw9M7FA5d+1PD3k6zdi/UU9PZMmL98a1j09RGEmXDhmPj31mx3ZVfY+PabWFFZzhj89qwiGaUgLQD0EpgEoV1NAPVxDfeZlm0A9tOD4pHTjQD0MfnRjgytBPWUb8CGSc0E9vbhr4KC7QT0WVueerwNCPW7zYl2+S0I9xpDeG82TQj0fLlra29tCPXfL1ZjqI0M90GhRV/lrQz0oBs0VCLRDPYCjSNQW/EM92UDEkiVERD0w3j9RNIxEPYl7uw9D1EQ94Rg3zlEcRT05trKMYGRFPZJTLktvrEU96vCpCX70RT1DjiXIjDxGPZsroYabhEY988gcRarMRj1MZpgDuRRHPaQDFMLHXEc9/aCPgNakRz1VPgs/5exHPa3bhv3zNEg9BnkCvAJ9SD1dFn56EcVIPbaz+TggDUk9DlF19y5VST1m7vC1PZ1JPb+LbHRM5Uk9FynoMlstSj1wxmPxaXVKPchj3694vUo9IAFbbocFSz15ntYslk1LPdE7UuuklUs9KtnNqbPdSz0=\",\"dtype\":\"float64\",\"order\":\"little\",\"shape\":[100]},\"y\":{\"__ndarray__\":\"ISu+tG7Qy0Ewmsf4xbvLQZQ6FLuwhMtBLZbYMsQsy0FaYg+ISbbKQbGAYej9I8pBCFjJM9p4yUFkCwwy6rfIQcu2lO0w5MdBSBb0WJYAx0FdXL5H3A/GQWz3vBKZFMVBp66uiTURxEHgMg/D6wfDQV819gPG+sFBCAGSHp/rwEFb8y6MS7i/Qes9HYDDm71BP7uHI3CEu0HPI0dW2nS5QfHFV1xMb7dBm0Vlj9R1tUF2FIErSIqzQamtJrFFrrFB/UGxv23Gr0Hnwvk9pVSsQShD2RQ+CalBD6eRSOflpUEQTJbe9uuiQa3k59NtHKBBlU8tOPnvmkEnxX/vEP6VQcSOMCJiY5FBpuhWOFk/ikEqCpDyemSCQeTPeq3yZ3ZBcYcpabWrYkHzVERkXqRDwXnYca35/2nBWEmH8bpWdsHULwRiZYR+wS0xFp3UyoLBgEc93/bLhcGQbf7vikyIwQkSaUGpU4rBICKCS3zoi8E6zqpoMxKNwZwMIUIH2I3Btxm90UdBjsFyvdiMYVWOwXQIU8jRG47B/Nyf8A2cjcFydCNXaN2MwRthlFT/5ovB9LHLXbm/isEWq330RW6JwRjBZkAc+YfB/tPC+3dmhsE2WA62VryEwQ9rBHp0AIPBoUNiPUc4gcHQsMcw8tF+waN41b3GLnvB4D0fVh+Qd8GkV4Q0f/5zwbWaeyzrgXDB3RLRIuBDasFxmKlWMctjwRi/a2NbTVvBPiwBeGCHT8GRfioE0TU0wanRHBkqETNBN7pW4ExHS0FDS1XuFYZVQUSppcpsZFxBtEJM6DgdYUG4nA6tGYNjQd/Qp1LqY2VB91ThlkTBZkEftXfI+55nQUO70AYyA2hB202Ecbv1Z0EKfa8Obn9nQUdRQNGjqWZBdweehJ19ZUFaa0/0tQNkQcVIkr/RQmJBIU7DQnRAYEEl+tqHbANcQfV6Jtl4GVdBIM/54y/TUUEUpE/zX4hIQaVjHQA3CjpB5i/827C/BEHnt9RmS+Y0wUS1KZlGDEbBSZROgeutUMECtsJ3LyVWwa8aOzZgZlvB4a+Sp+U3YME=\",\"dtype\":\"float64\",\"order\":\"little\",\"shape\":[100]}},\"selected\":{\"id\":\"1117\"},\"selection_policy\":{\"id\":\"1116\"}},\"id\":\"1102\",\"type\":\"ColumnDataSource\"},{\"attributes\":{\"fill_alpha\":0.3,\"fill_color\":\"#ffa600\",\"hatch_alpha\":{\"value\":0.3},\"hatch_color\":{\"value\":\"#ffa600\"},\"x\":{\"field\":\"x\"},\"y1\":{\"field\":\"y1\"},\"y2\":{\"field\":\"y2\"}},\"id\":\"1062\",\"type\":\"VArea\"},{\"attributes\":{\"line_alpha\":0.1,\"line_color\":\"#003f5c\",\"x\":{\"field\":\"x\"},\"y\":{\"field\":\"y\"}},\"id\":\"1104\",\"type\":\"Line\"},{\"attributes\":{},\"id\":\"1084\",\"type\":\"BasicTicker\"},{\"attributes\":{\"line_alpha\":0.2,\"line_color\":\"#bc5090\",\"x\":{\"field\":\"x\"},\"y\":{\"field\":\"y\"}},\"id\":\"1058\",\"type\":\"Line\"},{\"attributes\":{},\"id\":\"1091\",\"type\":\"ResetTool\"},{\"attributes\":{},\"id\":\"1116\",\"type\":\"UnionRenderers\"},{\"attributes\":{\"line_color\":\"#bc5090\",\"x\":{\"field\":\"x\"},\"y\":{\"field\":\"y\"}},\"id\":\"1056\",\"type\":\"Line\"},{\"attributes\":{\"axis\":{\"id\":\"1079\"},\"coordinates\":null,\"group\":null,\"ticker\":null},\"id\":\"1082\",\"type\":\"Grid\"},{\"attributes\":{},\"id\":\"1045\",\"type\":\"AllLabels\"},{\"attributes\":{\"source\":{\"id\":\"1102\"}},\"id\":\"1107\",\"type\":\"CDSView\"},{\"attributes\":{},\"id\":\"1044\",\"type\":\"BasicTickFormatter\"},{\"attributes\":{\"tools\":[{\"id\":\"1087\"},{\"id\":\"1088\"},{\"id\":\"1089\"},{\"id\":\"1090\"},{\"id\":\"1091\"},{\"id\":\"1092\"},{\"id\":\"1135\"}]},\"id\":\"1094\",\"type\":\"Toolbar\"},{\"attributes\":{\"coordinates\":null,\"group\":null,\"items\":[{\"id\":\"1053\"}]},\"id\":\"1052\",\"type\":\"Legend\"},{\"attributes\":{},\"id\":\"1080\",\"type\":\"BasicTicker\"},{\"attributes\":{},\"id\":\"1077\",\"type\":\"LinearScale\"},{\"attributes\":{},\"id\":\"1049\",\"type\":\"UnionRenderers\"},{\"attributes\":{\"data\":{\"x\":{\"__ndarray__\":\"Flbnnq8D4jwWVueerwPyPCABW26HBfs8Flbnnq8DAj2bK6GGm4QGPSABW26HBQs9ptYUVnOGDz0WVueerwMSPdlAxJIlRBQ9myuhhpuEFj1dFn56EcUYPSABW26HBRs95Os3Yv1FHT2m1hRWc4YfPbTg+KR04yA9Flbnnq8DIj13y9WY6iMjPdlAxJIlRCQ9ObayjGBkJT2bK6GGm4QmPf2gj4DWpCc9XRZ+ehHFKD2/i2x0TOUpPSABW26HBSs9gnZJaMIlLD3k6zdi/UUtPURhJlw4Zi49ptYUVnOGLz0EpgEoV1MwPbTg+KR04zA9ZRvwIZJzMT0WVueerwMyPcaQ3hvNkzI9d8vVmOojMz0oBs0VCLQzPdlAxJIlRDQ9iXu7D0PUND05trKMYGQ1PerwqQl+9DU9myuhhpuENj1MZpgDuRQ3Pf2gj4DWpDc9rduG/fM0OD1dFn56EcU4PQ5RdfcuVTk9v4tsdEzlOT1wxmPxaXU6PSABW26HBTs90TtS66SVOz2CdklowiU8PTOxQOXftTw95Os3Yv1FPT2TJi/fGtY9PURhJlw4Zj499Zsd2VX2Pj2m1hRWc4Y/PasIhmlIC0A9BKYBKFdTQD1cQ33mZZtAPbTg+KR040A9DH50Y4MrQT1lG/AhknNBPb24a+Cgu0E9Flbnnq8DQj1u82JdvktCPcaQ3hvNk0I9Hy5a2tvbQj13y9WY6iNDPdBoUVf5a0M9KAbNFQi0Qz2Ao0jUFvxDPdlAxJIlREQ9MN4/UTSMRD2Je7sPQ9REPeEYN85RHEU9ObayjGBkRT2SUy5Lb6xFPerwqQl+9EU9Q44lyIw8Rj2bK6GGm4RGPfPIHEWqzEY9TGaYA7kURz2kAxTCx1xHPf2gj4DWpEc9VT4LP+XsRz2t24b98zRIPQZ5ArwCfUg9XRZ+ehHFSD22s/k4IA1JPQ5RdfcuVUk9Zu7wtT2dST2/i2x0TOVJPRcp6DJbLUo9cMZj8Wl1Sj3IY9+veL1KPSABW26HBUs9eZ7WLJZNSz3RO1LrpJVLPSrZzamz3Us9\",\"dtype\":\"float64\",\"order\":\"little\",\"shape\":[99]},\"y\":{\"__ndarray__\":\"vrFF1wytID5NSS7SsqAwPq650W1+0zg+PWjvC0RyQD6ii4jyImVEPuJy8kYRPkg+O/BVTEX5Sz7wZrwRd5NPPmV4IsfuhFE+vuIYrBQtUz58sYv/PsFUPoe/l1q1QFY+rgHwSfGqVz4zeZBGmv9YPnoz75eBPlo+2rBJVJ5nWz6V/xu5CXtcPuisBur7eF0+YPd7+shhXj470kco3jVfPsIGKUC/9V8+KAAjFQJRYD7eZ1xLq51gPgubneA34WA+40q2IwscYT6hjWoIjk5hPqaKSCQueWE+DF52tFycYT7l/kytjbhhPqOIm9U2zmE+4Ixd787dYT4WeTPuzOdhPhwfIjyn7GE+sPf6D9PsYT72q0Xaw+hhPs2WLsjq4GE+5bi/ULbVYT5W5Qq9kcdhPjK/yKjktmE+nr7wiBKkYT41IZhIeo9hPoS/hQJ2eWE+66uX0lpiYT7mDZS3eEphPkOsVIMaMmE+pA652IUZYT6/ORsw+wBhPps4fNe16GA+NWWS6uvQYD4z90xIzrlgPkgUZo+Io2A+N8GIKUGOYD4wldhlGXpgPr2V+Z0tZ2A+lI9NYZVVYD5GpR6mY0VgPhBwvgGnNmA+mQ1S5mkpYD76naDish1gPvwELOCEE2A+ZiKuXd8KYD4ljailvgNgPpB6iQE4/F8+Jm0ix9vzXz4aJIowUO5fPsrhls93618+WA1KjzDrXz57FnwhVO1fPnbR5Xq48V8+KpKOTzD4Xz47yYzCRQBgPr3t3c9LBWA+W7a5HBALYD5qWr7FdxFgPs2fWX9nGGA+pinz18MfYD7jFuRzcSdgPkYG41JVL2A+htCWLlU3YD7+CkvoVz9gPkO/ruhFR2A+psxXYwlPYD64t1OCjlZgPkzTi3TDXWA+N3alT5hkYD71gk7M/mpgPn51fQHqcGA+0ZrSQk52YD6QAjowIXtgPucOM+1Zf2A+ekJ2ZPGCYD5Gz5uE4oVgPkVWxXQqiGA+PX/9sciJYD5qhrbyvopgPsYEdscQi2A+V2U3GsOKYD7Hkym124lgPi+JU+dgiGA+\",\"dtype\":\"float64\",\"order\":\"little\",\"shape\":[99]}},\"selected\":{\"id\":\"1151\"},\"selection_policy\":{\"id\":\"1150\"}},\"id\":\"1055\",\"type\":\"ColumnDataSource\"},{\"attributes\":{\"below\":[{\"id\":\"1079\"}],\"center\":[{\"id\":\"1082\"},{\"id\":\"1086\"},{\"id\":\"1119\"},{\"id\":\"1101\"}],\"extra_y_ranges\":{\"Cond_range\":{\"id\":\"1121\"}},\"left\":[{\"id\":\"1083\"}],\"renderers\":[{\"id\":\"1106\"},{\"id\":\"1126\"},{\"id\":\"1132\"}],\"right\":[{\"id\":\"1134\"}],\"sizing_mode\":\"scale_both\",\"title\":{\"id\":\"1108\"},\"toolbar\":{\"id\":\"1094\"},\"toolbar_location\":null,\"x_range\":{\"id\":\"1071\"},\"x_scale\":{\"id\":\"1075\"},\"y_range\":{\"id\":\"1073\"},\"y_scale\":{\"id\":\"1077\"}},\"id\":\"1070\",\"subtype\":\"Figure\",\"type\":\"Plot\"},{\"attributes\":{},\"id\":\"1010\",\"type\":\"LinearScale\"},{\"attributes\":{\"data\":{\"x\":{\"__ndarray__\":\"Flbnnq8D4jwWVueerwPyPCABW26HBfs8Flbnnq8DAj2bK6GGm4QGPSABW26HBQs9ptYUVnOGDz0WVueerwMSPdlAxJIlRBQ9myuhhpuEFj1dFn56EcUYPSABW26HBRs95Os3Yv1FHT2m1hRWc4YfPbTg+KR04yA9Flbnnq8DIj13y9WY6iMjPdlAxJIlRCQ9ObayjGBkJT2bK6GGm4QmPf2gj4DWpCc9XRZ+ehHFKD2/i2x0TOUpPSABW26HBSs9gnZJaMIlLD3k6zdi/UUtPURhJlw4Zi49ptYUVnOGLz0EpgEoV1MwPbTg+KR04zA9ZRvwIZJzMT0WVueerwMyPcaQ3hvNkzI9d8vVmOojMz0oBs0VCLQzPdlAxJIlRDQ9iXu7D0PUND05trKMYGQ1PerwqQl+9DU9myuhhpuENj1MZpgDuRQ3Pf2gj4DWpDc9rduG/fM0OD1dFn56EcU4PQ5RdfcuVTk9v4tsdEzlOT1wxmPxaXU6PSABW26HBTs90TtS66SVOz2CdklowiU8PTOxQOXftTw95Os3Yv1FPT2TJi/fGtY9PURhJlw4Zj499Zsd2VX2Pj2m1hRWc4Y/PasIhmlIC0A9BKYBKFdTQD1cQ33mZZtAPbTg+KR040A9DH50Y4MrQT1lG/AhknNBPb24a+Cgu0E9Flbnnq8DQj1u82JdvktCPcaQ3hvNk0I9Hy5a2tvbQj13y9WY6iNDPdBoUVf5a0M9KAbNFQi0Qz2Ao0jUFvxDPdlAxJIlREQ9MN4/UTSMRD2Je7sPQ9REPeEYN85RHEU9ObayjGBkRT2SUy5Lb6xFPerwqQl+9EU9Q44lyIw8Rj2bK6GGm4RGPfPIHEWqzEY9TGaYA7kURz2kAxTCx1xHPf2gj4DWpEc9VT4LP+XsRz2t24b98zRIPQZ5ArwCfUg9XRZ+ehHFSD22s/k4IA1JPQ5RdfcuVUk9Zu7wtT2dST2/i2x0TOVJPRcp6DJbLUo9cMZj8Wl1Sj3IY9+veL1KPSABW26HBUs9eZ7WLJZNSz3RO1LrpJVLPSrZzamz3Us9\",\"dtype\":\"float64\",\"order\":\"little\",\"shape\":[99]},\"y1\":{\"__ndarray__\":\"5RbxFfPQHD7xY7sqDbwsPn64cvFtdDU+FBDi4PluPD5W2VBA5qJBPlc+Lmbd+EQ+PgOD5Cw2SD7H07TnAVhLPuSnzxDsW04+8D+9m+2fUD5mt97mDQFSPnUgsDOpUFM+1pfUWDuOVD6e+Wn+ZrlVPgINVLzy0VY+2q9DNMbXVz5fCp9O58pYPvUGdKl3q1k+eOGJLrJ5Wj4u6//D6DVbPoruFBWC4Fs+OHmgc/d5XD5ehZHP0gJdPlqbFsCse10+khJ7myrlXT448ROd/D9eProtGBrcjF4+a3V2xonMXj7KwKsKzP9ePo55lWxtJ18+bmynDTtEXz5U8Mk/A1dfPiI4eTKUYF8+rFyPvLphXz7cvmVIQVtfPs77deHuTV8+gcfkVIY6Xz5HF/tRxSFfPgDVm4djBF8+bWuCzxHjXj4wwnJ7eb5ePvu9WMw7l14+vsrbjPFtXj7ScfjEKkNePlUVt4JuF14+Ker8tjrrXT4eo7AeBL9dPj3X2yw2k10+nrFZ8jJoXT5DGLgJUz5dPpGo3pHlFV0+vROHPzDvXD6qCfyFb8pcPvTIKNHWp1w+oIycy5CHXD5q45mvv2lcPmaaxKN9Tlw+ZRyWId01XD7x6DVh6R9cPm/eJMamDFw+foBGShP8Wz6oCvLmJu5bPtorDPzT4ls+qOvhtAfaWz6cbnVrqtNbPg71rA2gz1s+KPozisjNWz6c0upIAM5bPo7Er6sg0Fs+FIAtjgDUWz7UtrO9dNlbPkEdN2tQ4Fs+64nxn2XoWz69izC5hfFbPsXBQeWB+1s+WSjElisGXD7+qwDtVBFcPlaS1CDRHFw+VPQ4BnUoXD5ceYCXFzRcPnTVr2uSP1w+Ql1CCcJKXD4GPJIahlVcPtF4xX/BX1w+mMYOL1ppXD6I2KfpOHJcPkZrm+pIelw+/4lyuHeBXD5k6KMvtYdcPuel8L7zjFw+/034tSiRXD5urtSNTJRcPhXzaClbllw+3Ive+lOXXD5mDGziOZdcPurnQ7MSllw+qCu/fOaTXD6emLzLvpBcPmumThSmjFw+\",\"dtype\":\"float64\",\"order\":\"little\",\"shape\":[99]},\"y2\":{\"__ndarray__\":\"CtiSI6DxIj6i4P4OX+MyPt66MOqOMjw+cMhtJwutQj7uPcCkXydHPm2ntidFg0s+ON0otF28Tz4M/eEddudRPtgc3YXn21M+jIV0vDu6VT6SqzgYcIFXPplef4HBMFk+hmsLO6fHWj7I+LaOzUVcPvJZinMQq10+2rFPdHb3Xj5meswRlhVgPm6pTBVAo2A+pAY34+8kYT6k3EfG6ZphPn2PnjV+BWI+tMN1cAhlYj4NDfAu7bliPmnoL2GZBGM+fQyv+YBFYz6mIkvCHX1jPm/+hDvuq2M+YoGxhXTSYz5lHURVNfFjPn9U7PS2CGQ+iWPnV4AZZD4C+oE8GCRkPieiB18EKWQ+CkGuwcgoZD5+eFgQ5yNkPrMvoh/eGmQ+Cg4NdykOZD4IPxjRQP5jPuSTw42X62M+hUcgKpzWYz5S4XbTt79jPgog3x5Op2M+d3LB3ryNYz7j4qsMXHNjPtzNTcV9WGM+NKjzVW49Yz7vId5QdCJjPpiFipjQB2M+m/H3W77tYj5E4r0Lc9RiPkjU3FUevGI+kPhNM+qkYj6LJbMI+45iPgDHXtNvemI+2NjMXGJnYj7XWHB051ViPu2SmjEPRmI+/wzZO+U3Yj58R6YUcStiPsCaRV22IGI+jQQ5FrUXYj72FNjXaRBiPqNkgwPOCmI+Unex7NcGYj7MbM/6egRiPkNnwMinA2I+RBAwSkwEYj4trQb9UwZiPi/vDSWoCWI+INJ3CDAOYj4Mtz8m0RNiPtlMIGpvGmI+wKd6ae0hYj72buSuLCpiPrheEgwOM2I+Hz+E5HE8Yj7H10dxOEZiPmHDWxVCUGI+4iYR2m9aYj5O2dUEpGRiPsyThZvCbmI+q2oOwrF4Yj5tUV73WYJiPi/qNCmmi2I+IonDh4OUYj6mGckj4ZxiPlk1rY2vpGI+ovBrqeCrYj7uEKLIZ7JiPtrK7fo5uGI+9V3wbU69Yj5VR03CnsFiPgAz1lQnxWI+jLiLZufHYj6hBjf04MliPpcVSjUYy2I+2jQP9pLLYj4/23QEWMtiPii/f8RuymI+\",\"dtype\":\"float64\",\"order\":\"little\",\"shape\":[99]}},\"selected\":{\"id\":\"1153\"},\"selection_policy\":{\"id\":\"1152\"}},\"id\":\"1061\",\"type\":\"ColumnDataSource\"},{\"attributes\":{},\"id\":\"1017\",\"type\":\"BasicTicker\"},{\"attributes\":{},\"id\":\"1047\",\"type\":\"BasicTickFormatter\"},{\"attributes\":{\"coordinates\":null,\"data_source\":{\"id\":\"1061\"},\"glyph\":{\"id\":\"1062\"},\"group\":null,\"hover_glyph\":null,\"muted_glyph\":{\"id\":\"1064\"},\"nonselection_glyph\":{\"id\":\"1063\"},\"view\":{\"id\":\"1066\"},\"y_range_name\":\"Cond_range\"},\"id\":\"1065\",\"type\":\"GlyphRenderer\"},{\"attributes\":{},\"id\":\"1115\",\"type\":\"AllLabels\"},{\"attributes\":{\"axis_label\":\"$$\\\\text{VACF} / m^{2}/s^{2}$$\",\"coordinates\":null,\"formatter\":{\"id\":\"1044\"},\"group\":null,\"major_label_policy\":{\"id\":\"1045\"},\"ticker\":{\"id\":\"1017\"}},\"id\":\"1016\",\"type\":\"LinearAxis\"},{\"attributes\":{\"fill_alpha\":0.2,\"fill_color\":\"#ffa600\",\"hatch_alpha\":{\"value\":0.2},\"hatch_color\":{\"value\":\"#ffa600\"},\"x\":{\"field\":\"x\"},\"y1\":{\"field\":\"y1\"},\"y2\":{\"field\":\"y2\"}},\"id\":\"1064\",\"type\":\"VArea\"},{\"attributes\":{\"axis_label\":\"$$\\\\text{Time} / s$$\",\"coordinates\":null,\"formatter\":{\"id\":\"1114\"},\"group\":null,\"major_label_policy\":{\"id\":\"1115\"},\"ticker\":{\"id\":\"1080\"}},\"id\":\"1079\",\"type\":\"LinearAxis\"},{\"attributes\":{},\"id\":\"1013\",\"type\":\"BasicTicker\"},{\"attributes\":{},\"id\":\"1114\",\"type\":\"BasicTickFormatter\"},{\"attributes\":{},\"id\":\"1050\",\"type\":\"Selection\"}],\"root_ids\":[\"1178\"]},\"title\":\"Bokeh Application\",\"version\":\"2.4.2\"}};\n",
       "  const render_items = [{\"docid\":\"acfe6889-1a70-4173-bd5b-db6015e30607\",\"root_ids\":[\"1178\"],\"roots\":{\"1178\":\"04b83169-1ca7-4dcc-b341-0c7929858896\"}}];\n",
       "  root.Bokeh.embed.embed_items_notebook(docs_json, render_items);\n",
       "\n",
       "  }\n",
       "  if (root.Bokeh !== undefined) {\n",
       "    embed_document(root);\n",
       "  } else {\n",
       "    let attempts = 0;\n",
       "    const timer = setInterval(function(root) {\n",
       "      if (root.Bokeh !== undefined) {\n",
       "        clearInterval(timer);\n",
       "        embed_document(root);\n",
       "      } else {\n",
       "        attempts++;\n",
       "        if (attempts > 100) {\n",
       "          clearInterval(timer);\n",
       "          console.log(\"Bokeh: ERROR: Unable to run BokehJS code because BokehJS library is missing\");\n",
       "        }\n",
       "      }\n",
       "    }, 10, root)\n",
       "  }\n",
       "})(window);"
      ],
      "application/vnd.bokehjs_exec.v0+json": ""
     },
     "metadata": {
      "application/vnd.bokehjs_exec.v0+json": {
       "id": "1178"
      }
     },
     "output_type": "display_data"
    }
   ],
   "source": [
    "data = project.run.GreenKuboDiffusionCoefficients(\n",
    "        data_range=100, plot=True, correlation_time=10\n",
    "    )"
   ]
  },
  {
   "cell_type": "code",
   "execution_count": 6,
   "id": "e9902c7a-cc52-4d08-8920-0c0024c7a53a",
   "metadata": {},
   "outputs": [
    {
     "data": {
      "text/plain": [
       "dict_keys(['Na', 'Cl'])"
      ]
     },
     "execution_count": 6,
     "metadata": {},
     "output_type": "execute_result"
    }
   ],
   "source": [
    "data['NaCl_GK'].data_dict.keys()"
   ]
  },
  {
   "cell_type": "code",
   "execution_count": 7,
   "id": "4cead0ad-f793-4c67-b2d7-cfc2c29a845e",
   "metadata": {},
   "outputs": [
    {
     "data": {
      "text/plain": [
       "dict_keys(['diffusion_coefficient', 'uncertainty', 'time', 'acf', 'integral', 'integral_uncertainty'])"
      ]
     },
     "execution_count": 7,
     "metadata": {},
     "output_type": "execute_result"
    }
   ],
   "source": [
    "data['NaCl_GK'].data_dict[\"Na\"].keys()"
   ]
  }
 ],
 "metadata": {
  "kernelspec": {
   "display_name": "Python 3 (ipykernel)",
   "language": "python",
   "name": "python3"
  },
  "language_info": {
   "codemirror_mode": {
    "name": "ipython",
    "version": 3
   },
   "file_extension": ".py",
   "mimetype": "text/x-python",
   "name": "python",
   "nbconvert_exporter": "python",
   "pygments_lexer": "ipython3",
   "version": "3.9.7"
  }
 },
 "nbformat": 4,
 "nbformat_minor": 5
}
