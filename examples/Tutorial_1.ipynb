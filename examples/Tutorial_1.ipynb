{
 "cells": [
  {
   "cell_type": "markdown",
   "metadata": {},
   "source": [
    "# Tutorial 1: The Basics\n",
    "\n",
    "In this tutorial, we will go through a guided example of how to generate a new database for your MD simulation."
   ]
  },
  {
   "cell_type": "markdown",
   "metadata": {},
   "source": [
    "The first step is to import the necessary packages. For this tutorial, we will only be using the data processing capabilities of the class, as well as some simpe os functionality to show the existance of new files, therefore, only the mdsuite and os packages are required."
   ]
  },
  {
   "cell_type": "code",
   "execution_count": 1,
   "metadata": {},
   "outputs": [],
   "source": [
    "import mdsuite as mds # Cool name for professionalism purposes\n",
    "import os"
   ]
  },
  {
   "cell_type": "markdown",
   "metadata": {},
   "source": [
    "The workhorse of the mdsuite package is the trajectory class. We have to make an instance of this class for each system we wish to study. In this tutorial, we will look at the two noble gas systems, argon and krypton. In the case of these simulations, both systems are in their liquid state. Note that if you run this program in terminal, or if you have your jupyter set up better than mine, a progress bar will render in the notebook to give you an estimate of the time left in the database construction."
   ]
  },
  {
   "cell_type": "code",
   "execution_count": 2,
   "metadata": {},
   "outputs": [],
   "source": [
    "argon_85K = mds.Trajectory(analysis_name=\"argon_85K\", \n",
    "                           new_project=True,\n",
    "                          storage_path=\".\",\n",
    "                          temperature=85.0,\n",
    "                          time_step=0.002,\n",
    "                          time_unit=1e-12,\n",
    "                          filename=\"trajectory_files/Ar_85K.dump\",\n",
    "                          length_unit=1e-10)\n",
    "krypton_85K = mds.Trajectory(analysis_name=\"krypton_85K\", \n",
    "                           new_project=True,\n",
    "                          storage_path=\".\",\n",
    "                          temperature=85.0,\n",
    "                          time_step=0.002,\n",
    "                          time_unit=1e-12,\n",
    "                          filename=\"trajectory_files/Kr_85K.dump\",\n",
    "                          length_unit=1e-10)"
   ]
  },
  {
   "cell_type": "markdown",
   "metadata": {},
   "source": [
    "In order to break down what has happend, I will discuss in brief what each of these attributes are and how to input them.\n",
    "\n",
    "* **analysis_name:** This is the name of the project that has been created. The directory that the program has just created, along with the hdf5 database, will share this name. This is always required, whether it is a new project, or you are loading an old one\n",
    "* **new_project:** If this is set to False, the program will attempt to load a class instance and database with the analysis name. If True, a new database will be created.\n",
    "* **storage_path:** For bigger projects, you may wish to store the database and files on a different drive. This allows you to choose where you wish to store the files. It is alwasy required for new projects and old.\n",
    "* **temperature:** Temperature of the system. If the temperature changes during the simulation, give it the initial, or average temperature. This parameter is currently only used on the conductivity calculations, therefore, it isnt necessary for much of the analysis\n",
    "* **time_step:** Give the time step of the simulation. This will allow the class to accurately model the time\n",
    "* **length_unit:** The unit of length (pm, um, angstrom)\n",
    "* **filename:** Where the dump file is\n",
    "* **time_unit:** Unit of time (ps, ns, us)\n",
    "\n",
    "Note, if the project is to be loaded, all that is required is the storage_path, analysis_name, and new_project=False attributes. The rest need not be included as the class state will be loaded\n",
    "\n",
    "So let's looks now at the directory"
   ]
  },
  {
   "cell_type": "code",
   "execution_count": 9,
   "metadata": {},
   "outputs": [
    {
     "name": "stdout",
     "output_type": "stream",
     "text": [
      "__pycache__\n",
      "\n",
      "lammps_scripts\n",
      "\n",
      "uwrap_test.extxyz\n",
      "\n",
      "trajectory_files\n",
      "\n",
      "krypton_85K\n",
      "\n",
      ".ipynb_checkpoints\n",
      "\n",
      "Tutorial_1.ipynb\n",
      "\n",
      "argon_85K\n",
      "\n"
     ]
    }
   ],
   "source": [
    "for item in os.listdir(\".\"):\n",
    "    print(f\"{item}\\n\")"
   ]
  },
  {
   "cell_type": "markdown",
   "metadata": {},
   "source": [
    "There are two new directories now names argon_85K and krypton_85K. Opening one of these directories, we can see what the program has done so far."
   ]
  },
  {
   "cell_type": "code",
   "execution_count": 7,
   "metadata": {},
   "outputs": [
    {
     "name": "stdout",
     "output_type": "stream",
     "text": [
      "argon_85K.hdf5\n",
      "\n",
      "argon_85K.txt\n",
      "\n"
     ]
    }
   ],
   "source": [
    "for item in os.listdir(\"argon_85K\"):\n",
    "    print(f\"{item}\\n\")"
   ]
  },
  {
   "cell_type": "markdown",
   "metadata": {},
   "source": [
    "Two files have been created in the argon directoyt, one, a hdf5 database, and the other a txt file with the state of the class. Unless you have some specific interest, it is unecessary to do anything in this directory, as all of the information can be accessed from within the class. For example, one usefule method is Print_Class_Attributes, which will print a list of the class attributes that have been calculated during the database construction"
   ]
  },
  {
   "cell_type": "code",
   "execution_count": 12,
   "metadata": {},
   "outputs": [
    {
     "name": "stdout",
     "output_type": "stream",
     "text": [
      "filename: trajectory_files/Ar_85K.dump, analysis_name: argon_85K, new_project: True, filepath: ., temperature: 85.0, time_step: 0.002, time_unit: 1e-12, length_unit: 1e-10, sample_rate: 20.0, batch_size: 5001, volume: 5574.383217238844, species: {'Ar': [9, 10, 11, 12, 13, 14, 15, 16, 17, 18, 19, 20, 21, 22, 23, 24, 25, 26, 27, 28, 29, 30, 31, 32, 33, 34, 35, 36, 37, 38, 39, 40, 41, 42, 43, 44, 45, 46, 47, 48, 49, 50, 51, 52, 53, 54, 55, 56, 57, 58, 59, 60, 61, 62, 63, 64, 65, 66, 67, 68, 69, 70, 71, 72, 73, 74, 75, 76, 77, 78, 79, 80, 81, 82, 83, 84, 85, 86, 87, 88, 89, 90, 91, 92, 93, 94, 95, 96, 97, 98, 99, 100, 101, 102, 103, 104, 105, 106, 107, 108, 109, 110, 111, 112, 113, 114, 115, 116]}, number_of_atoms: 108, properties: {'x': 3, 'y': 4, 'z': 5, 'vx': 6, 'vy': 7, 'vz': 8, 'fx': 9, 'fy': 10, 'fz': 11}, property_groups: {'Positions': [3, 4, 5], 'Velocities': [6, 7, 8], 'Forces': [9, 10, 11]}, dimensions: 3, box_array: [17.73096097, 17.73096097, 17.73096097], number_of_configurations: 5001, time_dimensions: [0.0, 2.0004e-10], singular_diffusion_coefficients: None, distinct_diffusion_coefficients: None, ionic_conductivity: None\n"
     ]
    }
   ],
   "source": [
    "argon_85K.Print_Class_Attributes()"
   ]
  },
  {
   "cell_type": "markdown",
   "metadata": {},
   "source": [
    "So we can see that atom species information, configurations information, property information, volume, box size, and some more time information, has been extracted from the lammps dump. All of this will become helpful in our analysis.\n",
    "\n",
    "So now that we have seen how to prepare a new project, let's look at some analysis that can be done with each, starting with the unwrapping of particle coordinates. Unless lammps has printed unwrapped coordinates for you, this must be done in order to calculate dynamic properties using Einstein methods. Therefore, let's unwrap the coordinates."
   ]
  },
  {
   "cell_type": "code",
   "execution_count": 14,
   "metadata": {},
   "outputs": [
    {
     "name": "stdout",
     "output_type": "stream",
     "text": [
      "\n",
      " --- Beginning to unwrap coordinates --- \n",
      "\n",
      "[[ 3.67482     3.6142197   3.5395193  ... 15.383821   15.41384\n",
      "  15.46229   ]\n",
      " [-1.5928106  -1.6503105  -1.6852403  ... -4.6227493  -4.64699\n",
      "  -4.670061  ]\n",
      " [ 6.0215197   6.0852194   6.161619   ... -1.8598404  -1.8972511\n",
      "  -1.9386902 ]\n",
      " ...\n",
      " [ 2.2021198   2.14462     2.1160192  ... -5.6450105  -5.6242504\n",
      "  -5.6055603 ]\n",
      " [ 0.75682926  0.7030697   0.64573956 ... 11.40579    11.430031\n",
      "  11.46905   ]\n",
      " [ 1.4204197   1.4009199   1.3742199  ... 10.268021   10.21994\n",
      "  10.148951  ]]\n",
      "\n",
      " --- Finished unwrapping coordinates --- \n",
      "\n",
      "\n",
      " --- Beginning to unwrap coordinates --- \n",
      "\n",
      "[[ 3.6016006   3.6327      3.6772003  ...  4.1385      4.0784006\n",
      "   4.0181    ]\n",
      " [-2.45752    -2.4334998  -2.4252696  ... -2.3192296  -2.29635\n",
      "  -2.28409   ]\n",
      " [ 6.3598003   6.4302006   6.4902     ...  6.6832      6.6951\n",
      "   6.705     ]\n",
      " ...\n",
      " [ 1.7191      1.6873999   1.6689005  ...  1.8378      1.7973003\n",
      "   1.7657003 ]\n",
      " [-0.8568497  -0.8466196  -0.8341999  ... -1.0657196  -1.1096497\n",
      "  -1.14604   ]\n",
      " [-0.4493494  -0.39110947 -0.34062958 ... -0.14517975 -0.19723988\n",
      "  -0.2528    ]]\n",
      "\n",
      " --- Finished unwrapping coordinates --- \n",
      "\n"
     ]
    }
   ],
   "source": [
    "argon_85K.Unwrap_Coordinates()\n",
    "krypton_85K.Unwrap_Coordinates()"
   ]
  },
  {
   "cell_type": "markdown",
   "metadata": {},
   "source": [
    "With the coordinates unwrapped, we can start looking at some interesting physical properties, such as the Einstein self-diffusion coefficients.\n",
    "\n",
    "To do this, we simply call the Einstein_Self_Diffusion method, with the plot argument set to True."
   ]
  },
  {
   "cell_type": "code",
   "execution_count": 15,
   "metadata": {},
   "outputs": [
    {
     "data": {
      "image/png": "[encoded data removed]",
      "text/plain": [
       "<Figure size 432x288 with 1 Axes>"
      ]
     },
     "metadata": {
      "needs_background": "light"
     },
     "output_type": "display_data"
    },
    {
     "name": "stdout",
     "output_type": "stream",
     "text": [
      "Einstein Self-Diffusion Coefficients:\n",
      "\n",
      "Ar: 2.558494006238897e-09\n",
      "\n"
     ]
    }
   ],
   "source": [
    "argon_85K.Einstein_Diffusion_Coefficients(plot=True)"
   ]
  },
  {
   "cell_type": "markdown",
   "metadata": {},
   "source": [
    "The return of this function, as you can see, is the self-diffusion coefficint for the argon system, as well as a plot of the msd with time.\n",
    "\n",
    "Let's do the same now for krypton and argon to see how they compare"
   ]
  },
  {
   "cell_type": "code",
   "execution_count": 16,
   "metadata": {},
   "outputs": [
    {
     "name": "stdout",
     "output_type": "stream",
     "text": [
      "Einstein Self-Diffusion Coefficients:\n",
      "\n",
      "Ar: 2.558494006238897e-09\n",
      "\n",
      "Einstein Self-Diffusion Coefficients:\n",
      "\n",
      "Kr: -2.654756364201954e-12\n",
      "\n"
     ]
    }
   ],
   "source": [
    "argon_85K.Einstein_Diffusion_Coefficients()\n",
    "krypton_85K.Einstein_Diffusion_Coefficients()"
   ]
  },
  {
   "cell_type": "markdown",
   "metadata": {},
   "source": [
    "Now we are just looking at the values because the plot argument is set False by default. The Kyrpton system however, is a perfect example of why this isn't always a good idea. Note the negative diffusion value, this is a little strange. So we look first at the msd to see if we can understand what has gone wrong."
   ]
  },
  {
   "cell_type": "code",
   "execution_count": 17,
   "metadata": {},
   "outputs": [
    {
     "data": {
      "image/png": "[encoded data removed]",
      "text/plain": [
       "<Figure size 432x288 with 1 Axes>"
      ]
     },
     "metadata": {
      "needs_background": "light"
     },
     "output_type": "display_data"
    },
    {
     "name": "stdout",
     "output_type": "stream",
     "text": [
      "Einstein Self-Diffusion Coefficients:\n",
      "\n",
      "Kr: -2.654756364201954e-12\n",
      "\n"
     ]
    }
   ],
   "source": [
    "krypton_85K.Einstein_Diffusion_Coefficients(plot=True)"
   ]
  },
  {
   "cell_type": "markdown",
   "metadata": {},
   "source": [
    "This shows an odd msd for what we assumed was a liquid system. In order to check this we should recall the temperatue of the system."
   ]
  },
  {
   "cell_type": "code",
   "execution_count": 18,
   "metadata": {},
   "outputs": [
    {
     "data": {
      "text/plain": [
       "85.0"
      ]
     },
     "execution_count": 18,
     "metadata": {},
     "output_type": "execute_result"
    }
   ],
   "source": [
    "krypton_85K.temperature"
   ]
  },
  {
   "cell_type": "markdown",
   "metadata": {},
   "source": [
    "A quick comparison with literature would tell you that at this temeprature, krypton happens to be solid, explainign why these results are being seen. Still, it doesn't mean that nothing is going on in the crystal, as occasionally some diffusion may still occur. For this, we should look at an alternative method, namely, the Green-Kubo approach.\n",
    "\n",
    "We can do this simply here by calling the Green_Kubo_Diffusion_Coefficients method, again, with the plot set equal to True"
   ]
  },
  {
   "cell_type": "code",
   "execution_count": 21,
   "metadata": {},
   "outputs": [
    {
     "data": {
      "image/png": "[encoded data removed]",
      "text/plain": [
       "<Figure size 432x288 with 1 Axes>"
      ]
     },
     "metadata": {
      "needs_background": "light"
     },
     "output_type": "display_data"
    },
    {
     "name": "stdout",
     "output_type": "stream",
     "text": [
      "Self-Diffusion Coefficient for Kr at 85.0K: 1.0755652798006653e-11 +- 1.4723917357099863e-13 m^2/s\n"
     ]
    }
   ],
   "source": [
    "krypton_85K.Green_Kubo_Diffusion_Coefficients(data_range=4000, plot=True)"
   ]
  },
  {
   "cell_type": "markdown",
   "metadata": {},
   "source": [
    "You will note that this analysis takes a little longer. This is due not to the algorithm being implemented, but rather the error analysis being performed. By selecting a sample of the data, say 4000 points, we can sample the autocorrelation function at various parts of the trajectory, thus allowing us to the calculate an error for the diffusion coefficients. It is this repetition which takes a long time. In a future release, we will implement a means to caluclate the correlation time of your data, and both improve the sampling time of this algorithm, but ensure truly decorrelated and accurate error calculations.\n",
    "\n",
    "So now we can see a litte better the results of this analysis. There may indeed be some minor diffusion through the bulk but is is at an extremely slow rate. In reality, one shouldn't use this method of analysis to study solid state diffusion, rather a more detailed study of single atoms should be performed. In principle, this can be done by changing some of the code in this package quite trivially, but you should contact me if this becomes necessary."
   ]
  },
  {
   "cell_type": "code",
   "execution_count": null,
   "metadata": {},
   "outputs": [],
   "source": []
  }
 ],
 "metadata": {
  "kernelspec": {
   "display_name": "Python 3",
   "language": "python",
   "name": "python3"
  },
  "language_info": {
   "codemirror_mode": {
    "name": "ipython",
    "version": 3
   },
   "file_extension": ".py",
   "mimetype": "text/x-python",
   "name": "python",
   "nbconvert_exporter": "python",
   "pygments_lexer": "ipython3",
   "version": "3.6.9"
  }
 },
 "nbformat": 4,
 "nbformat_minor": 2
}
